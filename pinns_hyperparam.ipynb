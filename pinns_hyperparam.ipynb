{
 "cells": [
  {
   "cell_type": "code",
   "execution_count": 1,
   "id": "1c0dad2b",
   "metadata": {},
   "outputs": [],
   "source": [
    "import torch\n",
    "import torch.nn as nn\n",
    "import seaborn as sns\n",
    "import matplotlib.pyplot as plt\n",
    "import numpy as np\n",
    "import ml_models\n",
    "import data_pipeline2 as dp\n",
    "import training_models as tm\n",
    "\n",
    "import os\n",
    "import seaborn as sns\n",
    "from torch.utils.data import DataLoader, TensorDataset\n",
    "import torch.optim as optim\n",
    "from torch_geometric.nn import GCNConv\n",
    "from torch_geometric.nn.models import GCN\n",
    "\n",
    "import pinns\n",
    "\n",
    "from functools import partial\n",
    "import tempfile\n",
    "from pathlib import Path\n",
    "import torch.nn.functional as F\n",
    "from torch.utils.data import random_split\n",
    "import torchvision\n",
    "import torchvision.transforms as transforms\n",
    "from ray import tune\n",
    "from ray import train\n",
    "from ray.train import Checkpoint, get_checkpoint\n",
    "from ray.tune.schedulers import ASHAScheduler\n",
    "import ray.cloudpickle as pickle"
   ]
  },
  {
   "cell_type": "code",
   "execution_count": 12,
   "id": "5d46afa1",
   "metadata": {},
   "outputs": [],
   "source": [
    "def train_pinn_1(config,data_dir = None):\n",
    "    \n",
    "    data_dir = 'C:/Users/lefti/OneDrive - KTH/phd_kth/PINNs'\n",
    "    \n",
    "    output = config['output_size']\n",
    "    inputs = config['input_size']\n",
    "    \n",
    "    state_dict = torch.load(f'{data_dir}/models/mlp/output_size{output}input_size{inputs}.pt')\n",
    "    mod = tm.train_model(config, it_amt=0, model_fnc=ml_models.MLP, data_dir=data_dir+'/data_synthetic')\n",
    "    mod.load_state_dict(state_dict)\n",
    "\n",
    "    model= pinns.decay_pinn(mod)\n",
    "\n",
    "\n",
    "    #model = pinns.train_pinn_1(config, it_amt=100, model=pinn_mod, data_dir = data_dir+'/data_synthetic')\n",
    "    \n",
    "    device = \"cpu\"\n",
    "    if torch.cuda.is_available():\n",
    "        device = \"cuda:0\"\n",
    "        if torch.cuda.device_count() > 1:\n",
    "            model = nn.DataParallel(model)\n",
    "    model.to(device)\n",
    "    \n",
    "    optimizer = optim.Adam(model.parameters(), lr = config['lr'])\n",
    "    criterion = nn.MSELoss()\n",
    "    \n",
    "    checkpoint = get_checkpoint()\n",
    "    if checkpoint:\n",
    "        with checkpoint.as_directory() as checkpoint_dir:\n",
    "            data_path = Path(checkpoint_dir) / \"data.pkl\"\n",
    "            with open(data_path, \"rb\") as fp:\n",
    "                checkpoint_state = pickle.load(fp)\n",
    "            start_epoch = checkpoint_state[\"epoch\"]\n",
    "            model.load_state_dict(checkpoint_state[\"net_state_dict\"])\n",
    "            optimizer.load_state_dict(checkpoint_state[\"optimizer_state_dict\"])\n",
    "    else:\n",
    "        start_epoch = 0\n",
    "        \n",
    "    file_nr = 0\n",
    "    chosen_sensor = 11\n",
    "    train_percentage = 80\n",
    "    \n",
    "\n",
    "    df_train, df_test = dp.get_cmapss_data(file_nr, train_percentage,  data_dir = data_dir+'/data_synthetic', chosen_sensor=chosen_sensor)\n",
    "\n",
    "    trainloader, idx = dp.get_loaded_data(df_train, config['input_size'], config['output_size'], config['batch_size'])\n",
    "    testloader, idx = dp.get_loaded_data(df_test, config['input_size'], config['output_size'], config['batch_size'])\n",
    "\n",
    "    best_val_loss = 100\n",
    "    for epoch in range(start_epoch, 500):  # loop over the dataset multiple times\n",
    "        running_loss = 0.0\n",
    "        epoch_steps = 0\n",
    "\n",
    "        for i, data in enumerate(trainloader):\n",
    "            # get the inputs; data is a list of [inputs, labels]\n",
    "            inputs, labels, tx, ty, sensor = data\n",
    "            inputs, labels = inputs.to(device), labels.to(device)\n",
    "            \n",
    "            #ty = ty.clone().detach().requires_grad_(True)\n",
    "\n",
    "            # zero the parameter gradients\n",
    "            optimizer.zero_grad()\n",
    "\n",
    "            # forward + backward + optimize\n",
    "            outputs = model(inputs)            \n",
    "            loss = criterion(outputs, labels)\n",
    "            \n",
    "            # Compute physics loss (parameters mu and k in the ODE)\n",
    "            decay = model.decay\n",
    "            \n",
    "            #x_phys = model(t_phys)\n",
    "            \n",
    "\n",
    "            xdot = pinns.finite_difference_derivative(outputs, ty)\n",
    "            #print(xdot)\n",
    "            \n",
    "            ode_residual = xdot + decay*ty**(decay-1)\n",
    "            #print(torch.mean(ode_residual**2))\n",
    "            \n",
    "            loss += config['lambda_'] * torch.mean(ode_residual**2)\n",
    "            \n",
    "            loss.backward()\n",
    "            optimizer.step()\n",
    "\n",
    "            # print statistics\n",
    "            running_loss += loss.item()\n",
    "            epoch_steps += 1\n",
    "            if i % 2000 == 1999:  # print every 2000 mini-batches\n",
    "                print(\"[%d, %5d] loss: %.3f\" % (epoch + 1, i + 1,\n",
    "                                                running_loss / epoch_steps))\n",
    "                running_loss = 0.0\n",
    "\n",
    "        # Validation loss\n",
    "        val_loss = 0.0\n",
    "        val_steps = 0\n",
    "        total = 0\n",
    "        correct = 0\n",
    "        for i, data in enumerate(testloader, 0):\n",
    "            with torch.no_grad():\n",
    "                inputs, labels, tx, ty, sensor = data\n",
    "                inputs, labels = inputs.to(device), labels.to(device)\n",
    "\n",
    "                outputs = model(inputs)\n",
    "                \n",
    "                loss = criterion(outputs, labels)\n",
    "\n",
    "                val_loss += loss.cpu().numpy()\n",
    "                val_steps += 1\n",
    "                \n",
    "        checkpoint_data = {\n",
    "            \"epoch\": epoch,\n",
    "            \"net_state_dict\": model.state_dict(),\n",
    "            \"optimizer_state_dict\": optimizer.state_dict(),\n",
    "        }\n",
    "        with tempfile.TemporaryDirectory() as checkpoint_dir:\n",
    "            data_path = Path(checkpoint_dir) / \"data.pkl\"\n",
    "            with open(data_path, \"wb\") as fp:\n",
    "                pickle.dump(checkpoint_data, fp)\n",
    "\n",
    "            checkpoint = Checkpoint.from_directory(checkpoint_dir)\n",
    "            train.report(\n",
    "                {\"loss\": val_loss / val_steps},\n",
    "                checkpoint=checkpoint,\n",
    "            )\n",
    "\n",
    "    print(\"Finished Training\")\n",
    "\n",
    "    \n",
    "    return model"
   ]
  },
  {
   "cell_type": "code",
   "execution_count": 13,
   "id": "1c59cb11",
   "metadata": {},
   "outputs": [],
   "source": [
    "def test_best_model(best_result, smoke_test=False):\n",
    "    best_trained_model = train_pinn_1(config)\n",
    "    device = \"cuda:0\" if torch.cuda.is_available() else \"cpu\"\n",
    "    best_trained_model.to(device)\n",
    "\n",
    "    checkpoint_path = os.path.join(best_result.checkpoint.to_directory(), \"checkpoint.pt\")\n",
    "\n",
    "    model_state, optimizer_state = torch.load(checkpoint_path)\n",
    "    best_trained_model.load_state_dict(model_state)\n",
    "\n",
    "\n",
    "    testloader, idx = dp.get_loaded_data(df_test, best_result.config['input_size'], best_result.config['output_size'], best_result.config['batch_size'])\n",
    "\n",
    "    val_loss = 0.0\n",
    "    val_steps = 0\n",
    "    with torch.no_grad():\n",
    "        for data in testloader:\n",
    "            inputs, labels = data\n",
    "            inputs, labels = inputs.to(device), labels.to(device)\n",
    "\n",
    "            outputs = model(inputs)\n",
    "\n",
    "            loss = criterion(outputs, labels)\n",
    "            val_loss += loss.cpu().numpy()\n",
    "            val_steps += 1\n",
    "\n",
    "\n",
    "    print(\"Best trial test set loss: {}\".format(val_loss / val_steps))"
   ]
  },
  {
   "cell_type": "code",
   "execution_count": 14,
   "id": "b9d9d1d3",
   "metadata": {},
   "outputs": [],
   "source": [
    "# Set this to True for a smoke test that runs with a small synthetic dataset.\n",
    "SMOKE_TEST = False\n",
    "\n",
    "def custom_trial_name(trial):\n",
    "    return f\"trial_{trial.trial_id}\"\n"
   ]
  },
  {
   "cell_type": "code",
   "execution_count": 15,
   "id": "77771cb7",
   "metadata": {
    "scrolled": false
   },
   "outputs": [
    {
     "name": "stderr",
     "output_type": "stream",
     "text": [
      "2025-03-07 04:06:47,623\tINFO tune.py:616 -- [output] This uses the legacy output and progress reporter, as Jupyter notebooks are not supported by the new engine, yet. For more information, please see https://github.com/ray-project/ray/issues/36949\n"
     ]
    },
    {
     "data": {
      "text/html": [
       "<div class=\"tuneStatus\">\n",
       "  <div style=\"display: flex;flex-direction: row\">\n",
       "    <div style=\"display: flex;flex-direction: column;\">\n",
       "      <h3>Tune Status</h3>\n",
       "      <table>\n",
       "<tbody>\n",
       "<tr><td>Current time:</td><td>2025-03-07 04:19:38</td></tr>\n",
       "<tr><td>Running for: </td><td>00:12:50.49        </td></tr>\n",
       "<tr><td>Memory:      </td><td>13.1/15.7 GiB      </td></tr>\n",
       "</tbody>\n",
       "</table>\n",
       "    </div>\n",
       "    <div class=\"vDivider\"></div>\n",
       "    <div class=\"systemInfo\">\n",
       "      <h3>System Info</h3>\n",
       "      Using AsyncHyperBand: num_stopped=50<br>Bracket: Iter 16.000: -0.3130722896318243 | Iter 8.000: -0.3130781028908912 | Iter 4.000: -0.3130669864741239 | Iter 2.000: -0.3130587027831511 | Iter 1.000: -0.3130943402647972<br>Logical resource usage: 1.0/4 CPUs, 0/0 GPUs\n",
       "    </div>\n",
       "    \n",
       "  </div>\n",
       "  <div class=\"hDivider\"></div>\n",
       "  <div class=\"trialStatus\">\n",
       "    <h3>Trial Status</h3>\n",
       "    <table>\n",
       "<thead>\n",
       "<tr><th>Trial name              </th><th>status    </th><th>loc            </th><th style=\"text-align: right;\">    lambda_</th><th style=\"text-align: right;\">         lr</th><th style=\"text-align: right;\">  iter</th><th style=\"text-align: right;\">  total time (s)</th><th style=\"text-align: right;\">    loss</th></tr>\n",
       "</thead>\n",
       "<tbody>\n",
       "<tr><td>train_pinn_1_351f8_00000</td><td>TERMINATED</td><td>127.0.0.1:17756</td><td style=\"text-align: right;\">6.31813e-06</td><td style=\"text-align: right;\">0.0351234  </td><td style=\"text-align: right;\">     8</td><td style=\"text-align: right;\">        27.6941 </td><td style=\"text-align: right;\">0.322487</td></tr>\n",
       "<tr><td>train_pinn_1_351f8_00001</td><td>TERMINATED</td><td>127.0.0.1:15572</td><td style=\"text-align: right;\">0.0545256  </td><td style=\"text-align: right;\">0.000530647</td><td style=\"text-align: right;\">    30</td><td style=\"text-align: right;\">        98.8258 </td><td style=\"text-align: right;\">0.312517</td></tr>\n",
       "<tr><td>train_pinn_1_351f8_00002</td><td>TERMINATED</td><td>127.0.0.1:20584</td><td style=\"text-align: right;\">0.00016281 </td><td style=\"text-align: right;\">0.000520125</td><td style=\"text-align: right;\">    30</td><td style=\"text-align: right;\">        98.6828 </td><td style=\"text-align: right;\">0.313851</td></tr>\n",
       "<tr><td>train_pinn_1_351f8_00003</td><td>TERMINATED</td><td>127.0.0.1:21200</td><td style=\"text-align: right;\">0.000661847</td><td style=\"text-align: right;\">0.0091479  </td><td style=\"text-align: right;\">     1</td><td style=\"text-align: right;\">         4.16035</td><td style=\"text-align: right;\">0.325403</td></tr>\n",
       "<tr><td>train_pinn_1_351f8_00004</td><td>TERMINATED</td><td>127.0.0.1:13968</td><td style=\"text-align: right;\">4.17069e-05</td><td style=\"text-align: right;\">0.0144673  </td><td style=\"text-align: right;\">     2</td><td style=\"text-align: right;\">         8.34007</td><td style=\"text-align: right;\">0.322224</td></tr>\n",
       "<tr><td>train_pinn_1_351f8_00005</td><td>TERMINATED</td><td>127.0.0.1:14872</td><td style=\"text-align: right;\">6.26522e-05</td><td style=\"text-align: right;\">6.351e-06  </td><td style=\"text-align: right;\">     8</td><td style=\"text-align: right;\">        27.737  </td><td style=\"text-align: right;\">0.313079</td></tr>\n",
       "<tr><td>train_pinn_1_351f8_00006</td><td>TERMINATED</td><td>127.0.0.1:18748</td><td style=\"text-align: right;\">0.00376885 </td><td style=\"text-align: right;\">4.07263e-05</td><td style=\"text-align: right;\">     8</td><td style=\"text-align: right;\">        29.0599 </td><td style=\"text-align: right;\">0.313113</td></tr>\n",
       "<tr><td>train_pinn_1_351f8_00007</td><td>TERMINATED</td><td>127.0.0.1:19872</td><td style=\"text-align: right;\">0.00435397 </td><td style=\"text-align: right;\">0.00689492 </td><td style=\"text-align: right;\">     1</td><td style=\"text-align: right;\">         5.76003</td><td style=\"text-align: right;\">0.316114</td></tr>\n",
       "<tr><td>train_pinn_1_351f8_00008</td><td>TERMINATED</td><td>127.0.0.1:22872</td><td style=\"text-align: right;\">0.019589   </td><td style=\"text-align: right;\">5.57055e-06</td><td style=\"text-align: right;\">    30</td><td style=\"text-align: right;\">        94.2962 </td><td style=\"text-align: right;\">0.313076</td></tr>\n",
       "<tr><td>train_pinn_1_351f8_00009</td><td>TERMINATED</td><td>127.0.0.1:13848</td><td style=\"text-align: right;\">0.0346523  </td><td style=\"text-align: right;\">0.00073391 </td><td style=\"text-align: right;\">     8</td><td style=\"text-align: right;\">        29.9094 </td><td style=\"text-align: right;\">0.313187</td></tr>\n",
       "<tr><td>train_pinn_1_351f8_00010</td><td>TERMINATED</td><td>127.0.0.1:29232</td><td style=\"text-align: right;\">0.00014162 </td><td style=\"text-align: right;\">0.00376863 </td><td style=\"text-align: right;\">     1</td><td style=\"text-align: right;\">         3.82508</td><td style=\"text-align: right;\">0.320249</td></tr>\n",
       "<tr><td>train_pinn_1_351f8_00011</td><td>TERMINATED</td><td>127.0.0.1:16280</td><td style=\"text-align: right;\">1.16678e-06</td><td style=\"text-align: right;\">8.07716e-05</td><td style=\"text-align: right;\">    30</td><td style=\"text-align: right;\">        90.3266 </td><td style=\"text-align: right;\">0.312778</td></tr>\n",
       "<tr><td>train_pinn_1_351f8_00012</td><td>TERMINATED</td><td>127.0.0.1:28480</td><td style=\"text-align: right;\">0.0711854  </td><td style=\"text-align: right;\">0.0374506  </td><td style=\"text-align: right;\">     1</td><td style=\"text-align: right;\">         3.68006</td><td style=\"text-align: right;\">0.335621</td></tr>\n",
       "<tr><td>train_pinn_1_351f8_00013</td><td>TERMINATED</td><td>127.0.0.1:26864</td><td style=\"text-align: right;\">5.01808e-05</td><td style=\"text-align: right;\">0.0252482  </td><td style=\"text-align: right;\">     1</td><td style=\"text-align: right;\">         3.62823</td><td style=\"text-align: right;\">0.315932</td></tr>\n",
       "<tr><td>train_pinn_1_351f8_00014</td><td>TERMINATED</td><td>127.0.0.1:3860 </td><td style=\"text-align: right;\">0.0872761  </td><td style=\"text-align: right;\">0.00420151 </td><td style=\"text-align: right;\">     2</td><td style=\"text-align: right;\">         7.1093 </td><td style=\"text-align: right;\">0.317489</td></tr>\n",
       "<tr><td>train_pinn_1_351f8_00015</td><td>TERMINATED</td><td>127.0.0.1:29196</td><td style=\"text-align: right;\">0.0306622  </td><td style=\"text-align: right;\">0.0516593  </td><td style=\"text-align: right;\">     1</td><td style=\"text-align: right;\">         3.77818</td><td style=\"text-align: right;\">0.334606</td></tr>\n",
       "<tr><td>train_pinn_1_351f8_00016</td><td>TERMINATED</td><td>127.0.0.1:10036</td><td style=\"text-align: right;\">2.94609e-05</td><td style=\"text-align: right;\">6.61993e-06</td><td style=\"text-align: right;\">    16</td><td style=\"text-align: right;\">        49.6858 </td><td style=\"text-align: right;\">0.313092</td></tr>\n",
       "<tr><td>train_pinn_1_351f8_00017</td><td>TERMINATED</td><td>127.0.0.1:18232</td><td style=\"text-align: right;\">1.28788e-06</td><td style=\"text-align: right;\">9.48226e-06</td><td style=\"text-align: right;\">     4</td><td style=\"text-align: right;\">        12.8164 </td><td style=\"text-align: right;\">0.313095</td></tr>\n",
       "<tr><td>train_pinn_1_351f8_00018</td><td>TERMINATED</td><td>127.0.0.1:26972</td><td style=\"text-align: right;\">0.000225149</td><td style=\"text-align: right;\">0.00911006 </td><td style=\"text-align: right;\">     1</td><td style=\"text-align: right;\">         4.01004</td><td style=\"text-align: right;\">0.313845</td></tr>\n",
       "<tr><td>train_pinn_1_351f8_00019</td><td>TERMINATED</td><td>127.0.0.1:21856</td><td style=\"text-align: right;\">0.000125188</td><td style=\"text-align: right;\">0.0345072  </td><td style=\"text-align: right;\">     1</td><td style=\"text-align: right;\">         3.80679</td><td style=\"text-align: right;\">0.323218</td></tr>\n",
       "<tr><td>train_pinn_1_351f8_00020</td><td>TERMINATED</td><td>127.0.0.1:19980</td><td style=\"text-align: right;\">0.000185508</td><td style=\"text-align: right;\">7.74885e-06</td><td style=\"text-align: right;\">     8</td><td style=\"text-align: right;\">        25.6598 </td><td style=\"text-align: right;\">0.313093</td></tr>\n",
       "<tr><td>train_pinn_1_351f8_00021</td><td>TERMINATED</td><td>127.0.0.1:11448</td><td style=\"text-align: right;\">0.0478458  </td><td style=\"text-align: right;\">2.04821e-05</td><td style=\"text-align: right;\">     2</td><td style=\"text-align: right;\">         7.57272</td><td style=\"text-align: right;\">0.313096</td></tr>\n",
       "<tr><td>train_pinn_1_351f8_00022</td><td>TERMINATED</td><td>127.0.0.1:16320</td><td style=\"text-align: right;\">0.000269072</td><td style=\"text-align: right;\">0.00139224 </td><td style=\"text-align: right;\">     2</td><td style=\"text-align: right;\">         6.84467</td><td style=\"text-align: right;\">0.313293</td></tr>\n",
       "<tr><td>train_pinn_1_351f8_00023</td><td>TERMINATED</td><td>127.0.0.1:28460</td><td style=\"text-align: right;\">1.23618e-05</td><td style=\"text-align: right;\">8.67729e-06</td><td style=\"text-align: right;\">     8</td><td style=\"text-align: right;\">        23.9956 </td><td style=\"text-align: right;\">0.313118</td></tr>\n",
       "<tr><td>train_pinn_1_351f8_00024</td><td>TERMINATED</td><td>127.0.0.1:22412</td><td style=\"text-align: right;\">0.000275968</td><td style=\"text-align: right;\">0.000544034</td><td style=\"text-align: right;\">     8</td><td style=\"text-align: right;\">        24.485  </td><td style=\"text-align: right;\">0.313151</td></tr>\n",
       "<tr><td>train_pinn_1_351f8_00025</td><td>TERMINATED</td><td>127.0.0.1:17896</td><td style=\"text-align: right;\">0.0473284  </td><td style=\"text-align: right;\">2.6101e-05 </td><td style=\"text-align: right;\">     8</td><td style=\"text-align: right;\">        25.4988 </td><td style=\"text-align: right;\">0.313133</td></tr>\n",
       "<tr><td>train_pinn_1_351f8_00026</td><td>TERMINATED</td><td>127.0.0.1:15388</td><td style=\"text-align: right;\">0.0172735  </td><td style=\"text-align: right;\">0.00277226 </td><td style=\"text-align: right;\">     1</td><td style=\"text-align: right;\">         3.89563</td><td style=\"text-align: right;\">0.314772</td></tr>\n",
       "<tr><td>train_pinn_1_351f8_00027</td><td>TERMINATED</td><td>127.0.0.1:29432</td><td style=\"text-align: right;\">5.18676e-06</td><td style=\"text-align: right;\">0.00181596 </td><td style=\"text-align: right;\">     4</td><td style=\"text-align: right;\">        15.2023 </td><td style=\"text-align: right;\">0.313171</td></tr>\n",
       "<tr><td>train_pinn_1_351f8_00028</td><td>TERMINATED</td><td>127.0.0.1:3856 </td><td style=\"text-align: right;\">0.00255107 </td><td style=\"text-align: right;\">2.43296e-06</td><td style=\"text-align: right;\">    30</td><td style=\"text-align: right;\">       105.905  </td><td style=\"text-align: right;\">0.313093</td></tr>\n",
       "<tr><td>train_pinn_1_351f8_00029</td><td>TERMINATED</td><td>127.0.0.1:17960</td><td style=\"text-align: right;\">0.0829175  </td><td style=\"text-align: right;\">7.10828e-06</td><td style=\"text-align: right;\">     2</td><td style=\"text-align: right;\">         8.57468</td><td style=\"text-align: right;\">0.313062</td></tr>\n",
       "<tr><td>train_pinn_1_351f8_00030</td><td>TERMINATED</td><td>127.0.0.1:17008</td><td style=\"text-align: right;\">4.47318e-05</td><td style=\"text-align: right;\">0.00031835 </td><td style=\"text-align: right;\">     2</td><td style=\"text-align: right;\">         7.54147</td><td style=\"text-align: right;\">0.313115</td></tr>\n",
       "<tr><td>train_pinn_1_351f8_00031</td><td>TERMINATED</td><td>127.0.0.1:332  </td><td style=\"text-align: right;\">0.0130363  </td><td style=\"text-align: right;\">0.00120609 </td><td style=\"text-align: right;\">     2</td><td style=\"text-align: right;\">         8.08803</td><td style=\"text-align: right;\">0.313954</td></tr>\n",
       "<tr><td>train_pinn_1_351f8_00032</td><td>TERMINATED</td><td>127.0.0.1:13456</td><td style=\"text-align: right;\">1.02534e-05</td><td style=\"text-align: right;\">0.00463727 </td><td style=\"text-align: right;\">     1</td><td style=\"text-align: right;\">         4.42992</td><td style=\"text-align: right;\">0.320814</td></tr>\n",
       "<tr><td>train_pinn_1_351f8_00033</td><td>TERMINATED</td><td>127.0.0.1:2652 </td><td style=\"text-align: right;\">8.65785e-06</td><td style=\"text-align: right;\">0.00047957 </td><td style=\"text-align: right;\">     4</td><td style=\"text-align: right;\">        14.0485 </td><td style=\"text-align: right;\">0.314724</td></tr>\n",
       "<tr><td>train_pinn_1_351f8_00034</td><td>TERMINATED</td><td>127.0.0.1:27144</td><td style=\"text-align: right;\">0.000135541</td><td style=\"text-align: right;\">0.000150362</td><td style=\"text-align: right;\">     2</td><td style=\"text-align: right;\">         6.91311</td><td style=\"text-align: right;\">0.313243</td></tr>\n",
       "<tr><td>train_pinn_1_351f8_00035</td><td>TERMINATED</td><td>127.0.0.1:10480</td><td style=\"text-align: right;\">0.000770657</td><td style=\"text-align: right;\">1.78609e-05</td><td style=\"text-align: right;\">     2</td><td style=\"text-align: right;\">         6.84247</td><td style=\"text-align: right;\">0.313104</td></tr>\n",
       "<tr><td>train_pinn_1_351f8_00036</td><td>TERMINATED</td><td>127.0.0.1:14432</td><td style=\"text-align: right;\">0.000229628</td><td style=\"text-align: right;\">0.0137333  </td><td style=\"text-align: right;\">     1</td><td style=\"text-align: right;\">         3.65269</td><td style=\"text-align: right;\">0.342324</td></tr>\n",
       "<tr><td>train_pinn_1_351f8_00037</td><td>TERMINATED</td><td>127.0.0.1:11500</td><td style=\"text-align: right;\">0.00095736 </td><td style=\"text-align: right;\">0.0116781  </td><td style=\"text-align: right;\">     1</td><td style=\"text-align: right;\">         3.84606</td><td style=\"text-align: right;\">0.324687</td></tr>\n",
       "<tr><td>train_pinn_1_351f8_00038</td><td>TERMINATED</td><td>127.0.0.1:17844</td><td style=\"text-align: right;\">6.07703e-06</td><td style=\"text-align: right;\">0.000143571</td><td style=\"text-align: right;\">     4</td><td style=\"text-align: right;\">        13.0163 </td><td style=\"text-align: right;\">0.313072</td></tr>\n",
       "<tr><td>train_pinn_1_351f8_00039</td><td>TERMINATED</td><td>127.0.0.1:20604</td><td style=\"text-align: right;\">0.0464216  </td><td style=\"text-align: right;\">0.0034856  </td><td style=\"text-align: right;\">     1</td><td style=\"text-align: right;\">         3.77829</td><td style=\"text-align: right;\">0.31344 </td></tr>\n",
       "<tr><td>train_pinn_1_351f8_00040</td><td>TERMINATED</td><td>127.0.0.1:20756</td><td style=\"text-align: right;\">1.38631e-05</td><td style=\"text-align: right;\">6.23921e-06</td><td style=\"text-align: right;\">     4</td><td style=\"text-align: right;\">        12.0782 </td><td style=\"text-align: right;\">0.313067</td></tr>\n",
       "<tr><td>train_pinn_1_351f8_00041</td><td>TERMINATED</td><td>127.0.0.1:23892</td><td style=\"text-align: right;\">0.0124097  </td><td style=\"text-align: right;\">1.27732e-05</td><td style=\"text-align: right;\">     4</td><td style=\"text-align: right;\">        12.6872 </td><td style=\"text-align: right;\">0.3131  </td></tr>\n",
       "<tr><td>train_pinn_1_351f8_00042</td><td>TERMINATED</td><td>127.0.0.1:26348</td><td style=\"text-align: right;\">0.000259597</td><td style=\"text-align: right;\">0.000222667</td><td style=\"text-align: right;\">     1</td><td style=\"text-align: right;\">         3.8607 </td><td style=\"text-align: right;\">0.313244</td></tr>\n",
       "<tr><td>train_pinn_1_351f8_00043</td><td>TERMINATED</td><td>127.0.0.1:1320 </td><td style=\"text-align: right;\">2.58345e-05</td><td style=\"text-align: right;\">2.23758e-05</td><td style=\"text-align: right;\">    30</td><td style=\"text-align: right;\">        89.2143 </td><td style=\"text-align: right;\">0.312975</td></tr>\n",
       "<tr><td>train_pinn_1_351f8_00044</td><td>TERMINATED</td><td>127.0.0.1:26696</td><td style=\"text-align: right;\">0.0228357  </td><td style=\"text-align: right;\">0.000105192</td><td style=\"text-align: right;\">     1</td><td style=\"text-align: right;\">         3.96232</td><td style=\"text-align: right;\">0.313516</td></tr>\n",
       "<tr><td>train_pinn_1_351f8_00045</td><td>TERMINATED</td><td>127.0.0.1:17980</td><td style=\"text-align: right;\">1.14334e-05</td><td style=\"text-align: right;\">1.87984e-06</td><td style=\"text-align: right;\">     4</td><td style=\"text-align: right;\">        13.2691 </td><td style=\"text-align: right;\">0.313068</td></tr>\n",
       "<tr><td>train_pinn_1_351f8_00046</td><td>TERMINATED</td><td>127.0.0.1:3404 </td><td style=\"text-align: right;\">0.00315442 </td><td style=\"text-align: right;\">5.69748e-06</td><td style=\"text-align: right;\">    30</td><td style=\"text-align: right;\">        85.145  </td><td style=\"text-align: right;\">0.31307 </td></tr>\n",
       "<tr><td>train_pinn_1_351f8_00047</td><td>TERMINATED</td><td>127.0.0.1:25228</td><td style=\"text-align: right;\">1.68236e-06</td><td style=\"text-align: right;\">7.08474e-06</td><td style=\"text-align: right;\">     4</td><td style=\"text-align: right;\">        11.7495 </td><td style=\"text-align: right;\">0.313088</td></tr>\n",
       "<tr><td>train_pinn_1_351f8_00048</td><td>TERMINATED</td><td>127.0.0.1:29004</td><td style=\"text-align: right;\">1.44483e-06</td><td style=\"text-align: right;\">4.77576e-05</td><td style=\"text-align: right;\">     1</td><td style=\"text-align: right;\">         3.74816</td><td style=\"text-align: right;\">0.313219</td></tr>\n",
       "<tr><td>train_pinn_1_351f8_00049</td><td>TERMINATED</td><td>127.0.0.1:18460</td><td style=\"text-align: right;\">3.51891e-06</td><td style=\"text-align: right;\">0.000559148</td><td style=\"text-align: right;\">     2</td><td style=\"text-align: right;\">         5.79584</td><td style=\"text-align: right;\">0.313571</td></tr>\n",
       "</tbody>\n",
       "</table>\n",
       "  </div>\n",
       "</div>\n",
       "<style>\n",
       ".tuneStatus {\n",
       "  color: var(--jp-ui-font-color1);\n",
       "}\n",
       ".tuneStatus .systemInfo {\n",
       "  display: flex;\n",
       "  flex-direction: column;\n",
       "}\n",
       ".tuneStatus td {\n",
       "  white-space: nowrap;\n",
       "}\n",
       ".tuneStatus .trialStatus {\n",
       "  display: flex;\n",
       "  flex-direction: column;\n",
       "}\n",
       ".tuneStatus h3 {\n",
       "  font-weight: bold;\n",
       "}\n",
       ".tuneStatus .hDivider {\n",
       "  border-bottom-width: var(--jp-border-width);\n",
       "  border-bottom-color: var(--jp-border-color0);\n",
       "  border-bottom-style: solid;\n",
       "}\n",
       ".tuneStatus .vDivider {\n",
       "  border-left-width: var(--jp-border-width);\n",
       "  border-left-color: var(--jp-border-color0);\n",
       "  border-left-style: solid;\n",
       "  margin: 0.5em 1em 0.5em 1em;\n",
       "}\n",
       "</style>\n"
      ],
      "text/plain": [
       "<IPython.core.display.HTML object>"
      ]
     },
     "metadata": {},
     "output_type": "display_data"
    },
    {
     "name": "stdout",
     "output_type": "stream",
     "text": [
      "\u001b[36m(func pid=17756)\u001b[0m Finished Training\n"
     ]
    },
    {
     "data": {
      "text/html": [
       "<div class=\"trialProgress\">\n",
       "  <h3>Trial Progress</h3>\n",
       "  <table>\n",
       "<thead>\n",
       "<tr><th>Trial name              </th><th style=\"text-align: right;\">    loss</th><th>should_checkpoint  </th></tr>\n",
       "</thead>\n",
       "<tbody>\n",
       "<tr><td>train_pinn_1_351f8_00000</td><td style=\"text-align: right;\">0.322487</td><td>True               </td></tr>\n",
       "<tr><td>train_pinn_1_351f8_00001</td><td style=\"text-align: right;\">0.312517</td><td>True               </td></tr>\n",
       "<tr><td>train_pinn_1_351f8_00002</td><td style=\"text-align: right;\">0.313851</td><td>True               </td></tr>\n",
       "<tr><td>train_pinn_1_351f8_00003</td><td style=\"text-align: right;\">0.325403</td><td>True               </td></tr>\n",
       "<tr><td>train_pinn_1_351f8_00004</td><td style=\"text-align: right;\">0.322224</td><td>True               </td></tr>\n",
       "<tr><td>train_pinn_1_351f8_00005</td><td style=\"text-align: right;\">0.313079</td><td>True               </td></tr>\n",
       "<tr><td>train_pinn_1_351f8_00006</td><td style=\"text-align: right;\">0.313113</td><td>True               </td></tr>\n",
       "<tr><td>train_pinn_1_351f8_00007</td><td style=\"text-align: right;\">0.316114</td><td>True               </td></tr>\n",
       "<tr><td>train_pinn_1_351f8_00008</td><td style=\"text-align: right;\">0.313076</td><td>True               </td></tr>\n",
       "<tr><td>train_pinn_1_351f8_00009</td><td style=\"text-align: right;\">0.313187</td><td>True               </td></tr>\n",
       "<tr><td>train_pinn_1_351f8_00010</td><td style=\"text-align: right;\">0.320249</td><td>True               </td></tr>\n",
       "<tr><td>train_pinn_1_351f8_00011</td><td style=\"text-align: right;\">0.312778</td><td>True               </td></tr>\n",
       "<tr><td>train_pinn_1_351f8_00012</td><td style=\"text-align: right;\">0.335621</td><td>True               </td></tr>\n",
       "<tr><td>train_pinn_1_351f8_00013</td><td style=\"text-align: right;\">0.315932</td><td>True               </td></tr>\n",
       "<tr><td>train_pinn_1_351f8_00014</td><td style=\"text-align: right;\">0.317489</td><td>True               </td></tr>\n",
       "<tr><td>train_pinn_1_351f8_00015</td><td style=\"text-align: right;\">0.334606</td><td>True               </td></tr>\n",
       "<tr><td>train_pinn_1_351f8_00016</td><td style=\"text-align: right;\">0.313092</td><td>True               </td></tr>\n",
       "<tr><td>train_pinn_1_351f8_00017</td><td style=\"text-align: right;\">0.313095</td><td>True               </td></tr>\n",
       "<tr><td>train_pinn_1_351f8_00018</td><td style=\"text-align: right;\">0.313845</td><td>True               </td></tr>\n",
       "<tr><td>train_pinn_1_351f8_00019</td><td style=\"text-align: right;\">0.323218</td><td>True               </td></tr>\n",
       "<tr><td>train_pinn_1_351f8_00020</td><td style=\"text-align: right;\">0.313093</td><td>True               </td></tr>\n",
       "<tr><td>train_pinn_1_351f8_00021</td><td style=\"text-align: right;\">0.313096</td><td>True               </td></tr>\n",
       "<tr><td>train_pinn_1_351f8_00022</td><td style=\"text-align: right;\">0.313293</td><td>True               </td></tr>\n",
       "<tr><td>train_pinn_1_351f8_00023</td><td style=\"text-align: right;\">0.313118</td><td>True               </td></tr>\n",
       "<tr><td>train_pinn_1_351f8_00024</td><td style=\"text-align: right;\">0.313151</td><td>True               </td></tr>\n",
       "<tr><td>train_pinn_1_351f8_00025</td><td style=\"text-align: right;\">0.313133</td><td>True               </td></tr>\n",
       "<tr><td>train_pinn_1_351f8_00026</td><td style=\"text-align: right;\">0.314772</td><td>True               </td></tr>\n",
       "<tr><td>train_pinn_1_351f8_00027</td><td style=\"text-align: right;\">0.313171</td><td>True               </td></tr>\n",
       "<tr><td>train_pinn_1_351f8_00028</td><td style=\"text-align: right;\">0.313093</td><td>True               </td></tr>\n",
       "<tr><td>train_pinn_1_351f8_00029</td><td style=\"text-align: right;\">0.313062</td><td>True               </td></tr>\n",
       "<tr><td>train_pinn_1_351f8_00030</td><td style=\"text-align: right;\">0.313115</td><td>True               </td></tr>\n",
       "<tr><td>train_pinn_1_351f8_00031</td><td style=\"text-align: right;\">0.313954</td><td>True               </td></tr>\n",
       "<tr><td>train_pinn_1_351f8_00032</td><td style=\"text-align: right;\">0.320814</td><td>True               </td></tr>\n",
       "<tr><td>train_pinn_1_351f8_00033</td><td style=\"text-align: right;\">0.314724</td><td>True               </td></tr>\n",
       "<tr><td>train_pinn_1_351f8_00034</td><td style=\"text-align: right;\">0.313243</td><td>True               </td></tr>\n",
       "<tr><td>train_pinn_1_351f8_00035</td><td style=\"text-align: right;\">0.313104</td><td>True               </td></tr>\n",
       "<tr><td>train_pinn_1_351f8_00036</td><td style=\"text-align: right;\">0.342324</td><td>True               </td></tr>\n",
       "<tr><td>train_pinn_1_351f8_00037</td><td style=\"text-align: right;\">0.324687</td><td>True               </td></tr>\n",
       "<tr><td>train_pinn_1_351f8_00038</td><td style=\"text-align: right;\">0.313072</td><td>True               </td></tr>\n",
       "<tr><td>train_pinn_1_351f8_00039</td><td style=\"text-align: right;\">0.31344 </td><td>True               </td></tr>\n",
       "<tr><td>train_pinn_1_351f8_00040</td><td style=\"text-align: right;\">0.313067</td><td>True               </td></tr>\n",
       "<tr><td>train_pinn_1_351f8_00041</td><td style=\"text-align: right;\">0.3131  </td><td>True               </td></tr>\n",
       "<tr><td>train_pinn_1_351f8_00042</td><td style=\"text-align: right;\">0.313244</td><td>True               </td></tr>\n",
       "<tr><td>train_pinn_1_351f8_00043</td><td style=\"text-align: right;\">0.312975</td><td>True               </td></tr>\n",
       "<tr><td>train_pinn_1_351f8_00044</td><td style=\"text-align: right;\">0.313516</td><td>True               </td></tr>\n",
       "<tr><td>train_pinn_1_351f8_00045</td><td style=\"text-align: right;\">0.313068</td><td>True               </td></tr>\n",
       "<tr><td>train_pinn_1_351f8_00046</td><td style=\"text-align: right;\">0.31307 </td><td>True               </td></tr>\n",
       "<tr><td>train_pinn_1_351f8_00047</td><td style=\"text-align: right;\">0.313088</td><td>True               </td></tr>\n",
       "<tr><td>train_pinn_1_351f8_00048</td><td style=\"text-align: right;\">0.313219</td><td>True               </td></tr>\n",
       "<tr><td>train_pinn_1_351f8_00049</td><td style=\"text-align: right;\">0.313571</td><td>True               </td></tr>\n",
       "</tbody>\n",
       "</table>\n",
       "</div>\n",
       "<style>\n",
       ".trialProgress {\n",
       "  display: flex;\n",
       "  flex-direction: column;\n",
       "  color: var(--jp-ui-font-color1);\n",
       "}\n",
       ".trialProgress h3 {\n",
       "  font-weight: bold;\n",
       "}\n",
       ".trialProgress td {\n",
       "  white-space: nowrap;\n",
       "}\n",
       "</style>\n"
      ],
      "text/plain": [
       "<IPython.core.display.HTML object>"
      ]
     },
     "metadata": {},
     "output_type": "display_data"
    },
    {
     "name": "stderr",
     "output_type": "stream",
     "text": [
      "\u001b[36m(func pid=17756)\u001b[0m Checkpoint successfully created at: Checkpoint(filesystem=local, path=C:/Users/lefti/ray_results/train_pinn_1_2025-03-07_04-06-47/trial_351f8_00000/checkpoint_000000)\n"
     ]
    },
    {
     "name": "stdout",
     "output_type": "stream",
     "text": [
      "\u001b[36m(func pid=21200)\u001b[0m Finished Training\u001b[32m [repeated 3x across cluster]\u001b[0m\n"
     ]
    },
    {
     "name": "stderr",
     "output_type": "stream",
     "text": [
      "\u001b[36m(func pid=17756)\u001b[0m Checkpoint successfully created at: Checkpoint(filesystem=local, path=C:/Users/lefti/ray_results/train_pinn_1_2025-03-07_04-06-47/trial_351f8_00000/checkpoint_000002)\u001b[32m [repeated 7x across cluster]\u001b[0m\n",
      "\u001b[36m(func pid=17756)\u001b[0m Checkpoint successfully created at: Checkpoint(filesystem=local, path=C:/Users/lefti/ray_results/train_pinn_1_2025-03-07_04-06-47/trial_351f8_00000/checkpoint_000004)\u001b[32m [repeated 6x across cluster]\u001b[0m\n",
      "\u001b[36m(func pid=17756)\u001b[0m Checkpoint successfully created at: Checkpoint(filesystem=local, path=C:/Users/lefti/ray_results/train_pinn_1_2025-03-07_04-06-47/trial_351f8_00000/checkpoint_000006)\u001b[32m [repeated 6x across cluster]\u001b[0m\n",
      "\u001b[36m(func pid=15572)\u001b[0m Checkpoint successfully created at: Checkpoint(filesystem=local, path=C:/Users/lefti/ray_results/train_pinn_1_2025-03-07_04-06-47/trial_351f8_00001/checkpoint_000008)\u001b[32m [repeated 6x across cluster]\u001b[0m\n",
      "\u001b[36m(func pid=15572)\u001b[0m Checkpoint successfully created at: Checkpoint(filesystem=local, path=C:/Users/lefti/ray_results/train_pinn_1_2025-03-07_04-06-47/trial_351f8_00001/checkpoint_000010)\u001b[32m [repeated 4x across cluster]\u001b[0m\n",
      "\u001b[36m(func pid=15572)\u001b[0m Checkpoint successfully created at: Checkpoint(filesystem=local, path=C:/Users/lefti/ray_results/train_pinn_1_2025-03-07_04-06-47/trial_351f8_00001/checkpoint_000012)\u001b[32m [repeated 4x across cluster]\u001b[0m\n",
      "\u001b[36m(func pid=15572)\u001b[0m Checkpoint successfully created at: Checkpoint(filesystem=local, path=C:/Users/lefti/ray_results/train_pinn_1_2025-03-07_04-06-47/trial_351f8_00001/checkpoint_000014)\u001b[32m [repeated 4x across cluster]\u001b[0m\n",
      "\u001b[36m(func pid=15572)\u001b[0m Checkpoint successfully created at: Checkpoint(filesystem=local, path=C:/Users/lefti/ray_results/train_pinn_1_2025-03-07_04-06-47/trial_351f8_00001/checkpoint_000016)\u001b[32m [repeated 4x across cluster]\u001b[0m\n"
     ]
    },
    {
     "name": "stdout",
     "output_type": "stream",
     "text": [
      "\u001b[36m(func pid=13968)\u001b[0m Finished Training\n"
     ]
    },
    {
     "name": "stderr",
     "output_type": "stream",
     "text": [
      "\u001b[36m(func pid=15572)\u001b[0m Checkpoint successfully created at: Checkpoint(filesystem=local, path=C:/Users/lefti/ray_results/train_pinn_1_2025-03-07_04-06-47/trial_351f8_00001/checkpoint_000018)\u001b[32m [repeated 5x across cluster]\u001b[0m\n",
      "\u001b[36m(func pid=15572)\u001b[0m Checkpoint successfully created at: Checkpoint(filesystem=local, path=C:/Users/lefti/ray_results/train_pinn_1_2025-03-07_04-06-47/trial_351f8_00001/checkpoint_000020)\u001b[32m [repeated 5x across cluster]\u001b[0m\n"
     ]
    },
    {
     "name": "stdout",
     "output_type": "stream",
     "text": [
      "\u001b[36m(func pid=14872)\u001b[0m Finished Training\n"
     ]
    },
    {
     "name": "stderr",
     "output_type": "stream",
     "text": [
      "\u001b[36m(func pid=14872)\u001b[0m Checkpoint successfully created at: Checkpoint(filesystem=local, path=C:/Users/lefti/ray_results/train_pinn_1_2025-03-07_04-06-47/trial_351f8_00005/checkpoint_000000)\u001b[32m [repeated 4x across cluster]\u001b[0m\n",
      "\u001b[36m(func pid=20584)\u001b[0m Checkpoint successfully created at: Checkpoint(filesystem=local, path=C:/Users/lefti/ray_results/train_pinn_1_2025-03-07_04-06-47/trial_351f8_00002/checkpoint_000023)\u001b[32m [repeated 5x across cluster]\u001b[0m\n",
      "\u001b[36m(func pid=14872)\u001b[0m Checkpoint successfully created at: Checkpoint(filesystem=local, path=C:/Users/lefti/ray_results/train_pinn_1_2025-03-07_04-06-47/trial_351f8_00005/checkpoint_000003)\u001b[32m [repeated 4x across cluster]\u001b[0m\n",
      "\u001b[36m(func pid=14872)\u001b[0m Checkpoint successfully created at: Checkpoint(filesystem=local, path=C:/Users/lefti/ray_results/train_pinn_1_2025-03-07_04-06-47/trial_351f8_00005/checkpoint_000005)\u001b[32m [repeated 6x across cluster]\u001b[0m\n",
      "\u001b[36m(func pid=14872)\u001b[0m Checkpoint successfully created at: Checkpoint(filesystem=local, path=C:/Users/lefti/ray_results/train_pinn_1_2025-03-07_04-06-47/trial_351f8_00005/checkpoint_000007)\u001b[32m [repeated 6x across cluster]\u001b[0m\n"
     ]
    },
    {
     "name": "stdout",
     "output_type": "stream",
     "text": [
      "\u001b[36m(func pid=18748)\u001b[0m Finished Training\n"
     ]
    },
    {
     "name": "stderr",
     "output_type": "stream",
     "text": [
      "\u001b[36m(func pid=18748)\u001b[0m Checkpoint successfully created at: Checkpoint(filesystem=local, path=C:/Users/lefti/ray_results/train_pinn_1_2025-03-07_04-06-47/trial_351f8_00006/checkpoint_000000)\u001b[32m [repeated 3x across cluster]\u001b[0m\n",
      "\u001b[36m(func pid=18748)\u001b[0m Checkpoint successfully created at: Checkpoint(filesystem=local, path=C:/Users/lefti/ray_results/train_pinn_1_2025-03-07_04-06-47/trial_351f8_00006/checkpoint_000002)\u001b[32m [repeated 2x across cluster]\u001b[0m\n",
      "\u001b[36m(func pid=18748)\u001b[0m Checkpoint successfully created at: Checkpoint(filesystem=local, path=C:/Users/lefti/ray_results/train_pinn_1_2025-03-07_04-06-47/trial_351f8_00006/checkpoint_000004)\u001b[32m [repeated 2x across cluster]\u001b[0m\n"
     ]
    },
    {
     "name": "stdout",
     "output_type": "stream",
     "text": [
      "\u001b[36m(func pid=19872)\u001b[0m Finished Training\n"
     ]
    },
    {
     "name": "stderr",
     "output_type": "stream",
     "text": [
      "\u001b[36m(func pid=18748)\u001b[0m Checkpoint successfully created at: Checkpoint(filesystem=local, path=C:/Users/lefti/ray_results/train_pinn_1_2025-03-07_04-06-47/trial_351f8_00006/checkpoint_000006)\u001b[32m [repeated 2x across cluster]\u001b[0m\n",
      "\u001b[36m(func pid=22872)\u001b[0m Checkpoint successfully created at: Checkpoint(filesystem=local, path=C:/Users/lefti/ray_results/train_pinn_1_2025-03-07_04-06-47/trial_351f8_00008/checkpoint_000000)\u001b[32m [repeated 4x across cluster]\u001b[0m\n",
      "\u001b[36m(func pid=13848)\u001b[0m Checkpoint successfully created at: Checkpoint(filesystem=local, path=C:/Users/lefti/ray_results/train_pinn_1_2025-03-07_04-06-47/trial_351f8_00009/checkpoint_000002)\u001b[32m [repeated 3x across cluster]\u001b[0m\n",
      "\u001b[36m(func pid=22872)\u001b[0m Checkpoint successfully created at: Checkpoint(filesystem=local, path=C:/Users/lefti/ray_results/train_pinn_1_2025-03-07_04-06-47/trial_351f8_00008/checkpoint_000003)\u001b[32m [repeated 3x across cluster]\u001b[0m\n",
      "\u001b[36m(func pid=13848)\u001b[0m Checkpoint successfully created at: Checkpoint(filesystem=local, path=C:/Users/lefti/ray_results/train_pinn_1_2025-03-07_04-06-47/trial_351f8_00009/checkpoint_000005)\u001b[32m [repeated 3x across cluster]\u001b[0m\n",
      "\u001b[36m(func pid=22872)\u001b[0m Checkpoint successfully created at: Checkpoint(filesystem=local, path=C:/Users/lefti/ray_results/train_pinn_1_2025-03-07_04-06-47/trial_351f8_00008/checkpoint_000006)\u001b[32m [repeated 3x across cluster]\u001b[0m\n",
      "\u001b[36m(func pid=22872)\u001b[0m Checkpoint successfully created at: Checkpoint(filesystem=local, path=C:/Users/lefti/ray_results/train_pinn_1_2025-03-07_04-06-47/trial_351f8_00008/checkpoint_000008)\u001b[32m [repeated 3x across cluster]\u001b[0m\n",
      "\u001b[36m(func pid=22872)\u001b[0m Checkpoint successfully created at: Checkpoint(filesystem=local, path=C:/Users/lefti/ray_results/train_pinn_1_2025-03-07_04-06-47/trial_351f8_00008/checkpoint_000010)\u001b[32m [repeated 2x across cluster]\u001b[0m\n"
     ]
    },
    {
     "name": "stdout",
     "output_type": "stream",
     "text": [
      "\u001b[36m(func pid=16280)\u001b[0m Finished Training\u001b[32m [repeated 3x across cluster]\u001b[0m\n"
     ]
    },
    {
     "name": "stderr",
     "output_type": "stream",
     "text": [
      "\u001b[36m(func pid=22872)\u001b[0m Checkpoint successfully created at: Checkpoint(filesystem=local, path=C:/Users/lefti/ray_results/train_pinn_1_2025-03-07_04-06-47/trial_351f8_00008/checkpoint_000012)\u001b[32m [repeated 2x across cluster]\u001b[0m\n",
      "\u001b[36m(func pid=22872)\u001b[0m Checkpoint successfully created at: Checkpoint(filesystem=local, path=C:/Users/lefti/ray_results/train_pinn_1_2025-03-07_04-06-47/trial_351f8_00008/checkpoint_000014)\u001b[32m [repeated 5x across cluster]\u001b[0m\n",
      "\u001b[36m(func pid=22872)\u001b[0m Checkpoint successfully created at: Checkpoint(filesystem=local, path=C:/Users/lefti/ray_results/train_pinn_1_2025-03-07_04-06-47/trial_351f8_00008/checkpoint_000016)\u001b[32m [repeated 4x across cluster]\u001b[0m\n"
     ]
    },
    {
     "name": "stdout",
     "output_type": "stream",
     "text": [
      "\u001b[36m(func pid=28480)\u001b[0m Finished Training\u001b[32m [repeated 2x across cluster]\u001b[0m\n"
     ]
    },
    {
     "name": "stderr",
     "output_type": "stream",
     "text": [
      "\u001b[36m(func pid=28480)\u001b[0m Checkpoint successfully created at: Checkpoint(filesystem=local, path=C:/Users/lefti/ray_results/train_pinn_1_2025-03-07_04-06-47/trial_351f8_00012/checkpoint_000000)\u001b[32m [repeated 4x across cluster]\u001b[0m\n",
      "\u001b[36m(func pid=22872)\u001b[0m Checkpoint successfully created at: Checkpoint(filesystem=local, path=C:/Users/lefti/ray_results/train_pinn_1_2025-03-07_04-06-47/trial_351f8_00008/checkpoint_000020)\u001b[32m [repeated 5x across cluster]\u001b[0m\n",
      "\u001b[36m(func pid=22872)\u001b[0m Checkpoint successfully created at: Checkpoint(filesystem=local, path=C:/Users/lefti/ray_results/train_pinn_1_2025-03-07_04-06-47/trial_351f8_00008/checkpoint_000022)\u001b[32m [repeated 4x across cluster]\u001b[0m\n"
     ]
    },
    {
     "name": "stdout",
     "output_type": "stream",
     "text": [
      "\u001b[36m(func pid=26864)\u001b[0m Finished Training\n"
     ]
    },
    {
     "name": "stderr",
     "output_type": "stream",
     "text": [
      "\u001b[36m(func pid=26864)\u001b[0m Checkpoint successfully created at: Checkpoint(filesystem=local, path=C:/Users/lefti/ray_results/train_pinn_1_2025-03-07_04-06-47/trial_351f8_00013/checkpoint_000000)\u001b[32m [repeated 4x across cluster]\u001b[0m\n",
      "\u001b[36m(func pid=22872)\u001b[0m Checkpoint successfully created at: Checkpoint(filesystem=local, path=C:/Users/lefti/ray_results/train_pinn_1_2025-03-07_04-06-47/trial_351f8_00008/checkpoint_000026)\u001b[32m [repeated 5x across cluster]\u001b[0m\n",
      "\u001b[36m(func pid=22872)\u001b[0m Checkpoint successfully created at: Checkpoint(filesystem=local, path=C:/Users/lefti/ray_results/train_pinn_1_2025-03-07_04-06-47/trial_351f8_00008/checkpoint_000028)\u001b[32m [repeated 4x across cluster]\u001b[0m\n"
     ]
    },
    {
     "name": "stdout",
     "output_type": "stream",
     "text": [
      "\u001b[36m(func pid=3860)\u001b[0m Finished Training\n"
     ]
    },
    {
     "name": "stderr",
     "output_type": "stream",
     "text": [
      "\u001b[36m(func pid=3860)\u001b[0m Checkpoint successfully created at: Checkpoint(filesystem=local, path=C:/Users/lefti/ray_results/train_pinn_1_2025-03-07_04-06-47/trial_351f8_00014/checkpoint_000000)\u001b[32m [repeated 4x across cluster]\u001b[0m\n",
      "\u001b[36m(func pid=16280)\u001b[0m Checkpoint successfully created at: Checkpoint(filesystem=local, path=C:/Users/lefti/ray_results/train_pinn_1_2025-03-07_04-06-47/trial_351f8_00011/checkpoint_000020)\u001b[32m [repeated 4x across cluster]\u001b[0m\n",
      "\u001b[36m(func pid=16280)\u001b[0m Checkpoint successfully created at: Checkpoint(filesystem=local, path=C:/Users/lefti/ray_results/train_pinn_1_2025-03-07_04-06-47/trial_351f8_00011/checkpoint_000022)\u001b[32m [repeated 2x across cluster]\u001b[0m\n"
     ]
    },
    {
     "name": "stdout",
     "output_type": "stream",
     "text": [
      "\u001b[36m(func pid=29196)\u001b[0m Finished Training\n"
     ]
    },
    {
     "name": "stderr",
     "output_type": "stream",
     "text": [
      "\u001b[36m(func pid=16280)\u001b[0m Checkpoint successfully created at: Checkpoint(filesystem=local, path=C:/Users/lefti/ray_results/train_pinn_1_2025-03-07_04-06-47/trial_351f8_00011/checkpoint_000024)\u001b[32m [repeated 3x across cluster]\u001b[0m\n",
      "\u001b[36m(func pid=16280)\u001b[0m Checkpoint successfully created at: Checkpoint(filesystem=local, path=C:/Users/lefti/ray_results/train_pinn_1_2025-03-07_04-06-47/trial_351f8_00011/checkpoint_000026)\u001b[32m [repeated 2x across cluster]\u001b[0m\n"
     ]
    },
    {
     "name": "stdout",
     "output_type": "stream",
     "text": [
      "\u001b[36m(func pid=10036)\u001b[0m Finished Training\n"
     ]
    },
    {
     "name": "stderr",
     "output_type": "stream",
     "text": [
      "\u001b[36m(func pid=10036)\u001b[0m Checkpoint successfully created at: Checkpoint(filesystem=local, path=C:/Users/lefti/ray_results/train_pinn_1_2025-03-07_04-06-47/trial_351f8_00016/checkpoint_000000)\u001b[32m [repeated 2x across cluster]\u001b[0m\n"
     ]
    },
    {
     "name": "stdout",
     "output_type": "stream",
     "text": [
      "\u001b[36m(func pid=18232)\u001b[0m Finished Training\n"
     ]
    },
    {
     "name": "stderr",
     "output_type": "stream",
     "text": [
      "\u001b[36m(func pid=10036)\u001b[0m Checkpoint successfully created at: Checkpoint(filesystem=local, path=C:/Users/lefti/ray_results/train_pinn_1_2025-03-07_04-06-47/trial_351f8_00016/checkpoint_000002)\u001b[32m [repeated 4x across cluster]\u001b[0m\n",
      "\u001b[36m(func pid=10036)\u001b[0m Checkpoint successfully created at: Checkpoint(filesystem=local, path=C:/Users/lefti/ray_results/train_pinn_1_2025-03-07_04-06-47/trial_351f8_00016/checkpoint_000004)\u001b[32m [repeated 4x across cluster]\u001b[0m\n"
     ]
    },
    {
     "name": "stdout",
     "output_type": "stream",
     "text": [
      "\u001b[36m(func pid=26972)\u001b[0m Finished Training\n"
     ]
    },
    {
     "name": "stderr",
     "output_type": "stream",
     "text": [
      "\u001b[36m(func pid=10036)\u001b[0m Checkpoint successfully created at: Checkpoint(filesystem=local, path=C:/Users/lefti/ray_results/train_pinn_1_2025-03-07_04-06-47/trial_351f8_00016/checkpoint_000006)\u001b[32m [repeated 4x across cluster]\u001b[0m\n",
      "\u001b[36m(func pid=10036)\u001b[0m Checkpoint successfully created at: Checkpoint(filesystem=local, path=C:/Users/lefti/ray_results/train_pinn_1_2025-03-07_04-06-47/trial_351f8_00016/checkpoint_000008)\u001b[32m [repeated 3x across cluster]\u001b[0m\n",
      "\u001b[36m(func pid=10036)\u001b[0m Checkpoint successfully created at: Checkpoint(filesystem=local, path=C:/Users/lefti/ray_results/train_pinn_1_2025-03-07_04-06-47/trial_351f8_00016/checkpoint_000010)\u001b[32m [repeated 2x across cluster]\u001b[0m\n"
     ]
    },
    {
     "name": "stdout",
     "output_type": "stream",
     "text": [
      "\u001b[36m(func pid=21856)\u001b[0m Finished Training\n"
     ]
    },
    {
     "name": "stderr",
     "output_type": "stream",
     "text": [
      "\u001b[36m(func pid=10036)\u001b[0m Checkpoint successfully created at: Checkpoint(filesystem=local, path=C:/Users/lefti/ray_results/train_pinn_1_2025-03-07_04-06-47/trial_351f8_00016/checkpoint_000012)\u001b[32m [repeated 2x across cluster]\u001b[0m\n",
      "\u001b[36m(func pid=10036)\u001b[0m Checkpoint successfully created at: Checkpoint(filesystem=local, path=C:/Users/lefti/ray_results/train_pinn_1_2025-03-07_04-06-47/trial_351f8_00016/checkpoint_000014)\u001b[32m [repeated 3x across cluster]\u001b[0m\n"
     ]
    },
    {
     "name": "stdout",
     "output_type": "stream",
     "text": [
      "\u001b[36m(func pid=19980)\u001b[0m Finished Training\n"
     ]
    },
    {
     "name": "stderr",
     "output_type": "stream",
     "text": [
      "\u001b[36m(func pid=19980)\u001b[0m Checkpoint successfully created at: Checkpoint(filesystem=local, path=C:/Users/lefti/ray_results/train_pinn_1_2025-03-07_04-06-47/trial_351f8_00020/checkpoint_000000)\u001b[32m [repeated 2x across cluster]\u001b[0m\n"
     ]
    },
    {
     "name": "stdout",
     "output_type": "stream",
     "text": [
      "\u001b[36m(func pid=11448)\u001b[0m Finished Training\n"
     ]
    },
    {
     "name": "stderr",
     "output_type": "stream",
     "text": [
      "\u001b[36m(func pid=19980)\u001b[0m Checkpoint successfully created at: Checkpoint(filesystem=local, path=C:/Users/lefti/ray_results/train_pinn_1_2025-03-07_04-06-47/trial_351f8_00020/checkpoint_000002)\u001b[32m [repeated 2x across cluster]\u001b[0m\n",
      "\u001b[36m(func pid=19980)\u001b[0m Checkpoint successfully created at: Checkpoint(filesystem=local, path=C:/Users/lefti/ray_results/train_pinn_1_2025-03-07_04-06-47/trial_351f8_00020/checkpoint_000004)\u001b[32m [repeated 4x across cluster]\u001b[0m\n",
      "\u001b[36m(func pid=19980)\u001b[0m Checkpoint successfully created at: Checkpoint(filesystem=local, path=C:/Users/lefti/ray_results/train_pinn_1_2025-03-07_04-06-47/trial_351f8_00020/checkpoint_000006)\u001b[32m [repeated 2x across cluster]\u001b[0m\n"
     ]
    },
    {
     "name": "stdout",
     "output_type": "stream",
     "text": [
      "\u001b[36m(func pid=16320)\u001b[0m Finished Training\n"
     ]
    },
    {
     "name": "stderr",
     "output_type": "stream",
     "text": [
      "\u001b[36m(func pid=16320)\u001b[0m Checkpoint successfully created at: Checkpoint(filesystem=local, path=C:/Users/lefti/ray_results/train_pinn_1_2025-03-07_04-06-47/trial_351f8_00022/checkpoint_000000)\u001b[32m [repeated 2x across cluster]\u001b[0m\n"
     ]
    },
    {
     "name": "stdout",
     "output_type": "stream",
     "text": [
      "\u001b[36m(func pid=28460)\u001b[0m Finished Training\n"
     ]
    },
    {
     "name": "stderr",
     "output_type": "stream",
     "text": [
      "\u001b[36m(func pid=28460)\u001b[0m Checkpoint successfully created at: Checkpoint(filesystem=local, path=C:/Users/lefti/ray_results/train_pinn_1_2025-03-07_04-06-47/trial_351f8_00023/checkpoint_000000)\u001b[32m [repeated 2x across cluster]\u001b[0m\n"
     ]
    },
    {
     "name": "stdout",
     "output_type": "stream",
     "text": [
      "\u001b[36m(func pid=22412)\u001b[0m Finished Training\n"
     ]
    },
    {
     "name": "stderr",
     "output_type": "stream",
     "text": [
      "\u001b[36m(func pid=28460)\u001b[0m Checkpoint successfully created at: Checkpoint(filesystem=local, path=C:/Users/lefti/ray_results/train_pinn_1_2025-03-07_04-06-47/trial_351f8_00023/checkpoint_000002)\u001b[32m [repeated 2x across cluster]\u001b[0m\n",
      "\u001b[36m(func pid=22412)\u001b[0m Checkpoint successfully created at: Checkpoint(filesystem=local, path=C:/Users/lefti/ray_results/train_pinn_1_2025-03-07_04-06-47/trial_351f8_00024/checkpoint_000001)\u001b[32m [repeated 3x across cluster]\u001b[0m\n",
      "\u001b[36m(func pid=22412)\u001b[0m Checkpoint successfully created at: Checkpoint(filesystem=local, path=C:/Users/lefti/ray_results/train_pinn_1_2025-03-07_04-06-47/trial_351f8_00024/checkpoint_000003)\u001b[32m [repeated 4x across cluster]\u001b[0m\n"
     ]
    },
    {
     "name": "stdout",
     "output_type": "stream",
     "text": [
      "\u001b[36m(func pid=17896)\u001b[0m Finished Training\n"
     ]
    },
    {
     "name": "stderr",
     "output_type": "stream",
     "text": [
      "\u001b[36m(func pid=22412)\u001b[0m Checkpoint successfully created at: Checkpoint(filesystem=local, path=C:/Users/lefti/ray_results/train_pinn_1_2025-03-07_04-06-47/trial_351f8_00024/checkpoint_000005)\u001b[32m [repeated 5x across cluster]\u001b[0m\n"
     ]
    },
    {
     "name": "stdout",
     "output_type": "stream",
     "text": [
      "\u001b[36m(func pid=15388)\u001b[0m Finished Training\n"
     ]
    },
    {
     "name": "stderr",
     "output_type": "stream",
     "text": [
      "\u001b[36m(func pid=22412)\u001b[0m Checkpoint successfully created at: Checkpoint(filesystem=local, path=C:/Users/lefti/ray_results/train_pinn_1_2025-03-07_04-06-47/trial_351f8_00024/checkpoint_000007)\u001b[32m [repeated 5x across cluster]\u001b[0m\n",
      "\u001b[36m(func pid=17896)\u001b[0m Checkpoint successfully created at: Checkpoint(filesystem=local, path=C:/Users/lefti/ray_results/train_pinn_1_2025-03-07_04-06-47/trial_351f8_00025/checkpoint_000005)\u001b[32m [repeated 3x across cluster]\u001b[0m\n",
      "\u001b[36m(func pid=17896)\u001b[0m Checkpoint successfully created at: Checkpoint(filesystem=local, path=C:/Users/lefti/ray_results/train_pinn_1_2025-03-07_04-06-47/trial_351f8_00025/checkpoint_000007)\u001b[32m [repeated 2x across cluster]\u001b[0m\n"
     ]
    },
    {
     "name": "stdout",
     "output_type": "stream",
     "text": [
      "\u001b[36m(func pid=29432)\u001b[0m Finished Training\n"
     ]
    },
    {
     "name": "stderr",
     "output_type": "stream",
     "text": [
      "\u001b[36m(func pid=29432)\u001b[0m Checkpoint successfully created at: Checkpoint(filesystem=local, path=C:/Users/lefti/ray_results/train_pinn_1_2025-03-07_04-06-47/trial_351f8_00027/checkpoint_000000)\n",
      "\u001b[36m(func pid=29432)\u001b[0m Checkpoint successfully created at: Checkpoint(filesystem=local, path=C:/Users/lefti/ray_results/train_pinn_1_2025-03-07_04-06-47/trial_351f8_00027/checkpoint_000001)\n"
     ]
    },
    {
     "name": "stdout",
     "output_type": "stream",
     "text": [
      "\u001b[36m(func pid=3856)\u001b[0m Finished Training\n"
     ]
    },
    {
     "name": "stderr",
     "output_type": "stream",
     "text": [
      "\u001b[36m(func pid=29432)\u001b[0m Checkpoint successfully created at: Checkpoint(filesystem=local, path=C:/Users/lefti/ray_results/train_pinn_1_2025-03-07_04-06-47/trial_351f8_00027/checkpoint_000002)\n",
      "\u001b[36m(func pid=29432)\u001b[0m Checkpoint successfully created at: Checkpoint(filesystem=local, path=C:/Users/lefti/ray_results/train_pinn_1_2025-03-07_04-06-47/trial_351f8_00027/checkpoint_000003)\u001b[32m [repeated 3x across cluster]\u001b[0m\n",
      "\u001b[36m(func pid=3856)\u001b[0m Checkpoint successfully created at: Checkpoint(filesystem=local, path=C:/Users/lefti/ray_results/train_pinn_1_2025-03-07_04-06-47/trial_351f8_00028/checkpoint_000003)\u001b[32m [repeated 4x across cluster]\u001b[0m\n",
      "\u001b[36m(func pid=3856)\u001b[0m Checkpoint successfully created at: Checkpoint(filesystem=local, path=C:/Users/lefti/ray_results/train_pinn_1_2025-03-07_04-06-47/trial_351f8_00028/checkpoint_000005)\u001b[32m [repeated 2x across cluster]\u001b[0m\n",
      "\u001b[36m(func pid=3856)\u001b[0m Checkpoint successfully created at: Checkpoint(filesystem=local, path=C:/Users/lefti/ray_results/train_pinn_1_2025-03-07_04-06-47/trial_351f8_00028/checkpoint_000007)\u001b[32m [repeated 2x across cluster]\u001b[0m\n",
      "\u001b[36m(func pid=3856)\u001b[0m Checkpoint successfully created at: Checkpoint(filesystem=local, path=C:/Users/lefti/ray_results/train_pinn_1_2025-03-07_04-06-47/trial_351f8_00028/checkpoint_000009)\u001b[32m [repeated 2x across cluster]\u001b[0m\n"
     ]
    },
    {
     "name": "stdout",
     "output_type": "stream",
     "text": [
      "\u001b[36m(func pid=17008)\u001b[0m Finished Training\u001b[32m [repeated 2x across cluster]\u001b[0m\n"
     ]
    },
    {
     "name": "stderr",
     "output_type": "stream",
     "text": [
      "\u001b[36m(func pid=3856)\u001b[0m Checkpoint successfully created at: Checkpoint(filesystem=local, path=C:/Users/lefti/ray_results/train_pinn_1_2025-03-07_04-06-47/trial_351f8_00028/checkpoint_000011)\u001b[32m [repeated 3x across cluster]\u001b[0m\n",
      "\u001b[36m(func pid=3856)\u001b[0m Checkpoint successfully created at: Checkpoint(filesystem=local, path=C:/Users/lefti/ray_results/train_pinn_1_2025-03-07_04-06-47/trial_351f8_00028/checkpoint_000013)\u001b[32m [repeated 3x across cluster]\u001b[0m\n",
      "\u001b[36m(func pid=3856)\u001b[0m Checkpoint successfully created at: Checkpoint(filesystem=local, path=C:/Users/lefti/ray_results/train_pinn_1_2025-03-07_04-06-47/trial_351f8_00028/checkpoint_000015)\u001b[32m [repeated 2x across cluster]\u001b[0m\n",
      "\u001b[36m(func pid=3856)\u001b[0m Checkpoint successfully created at: Checkpoint(filesystem=local, path=C:/Users/lefti/ray_results/train_pinn_1_2025-03-07_04-06-47/trial_351f8_00028/checkpoint_000017)\u001b[32m [repeated 2x across cluster]\u001b[0m\n"
     ]
    },
    {
     "name": "stdout",
     "output_type": "stream",
     "text": [
      "\u001b[36m(func pid=13456)\u001b[0m Finished Training\n",
      "\u001b[36m(func pid=332)\u001b[0m Finished Training\n"
     ]
    },
    {
     "name": "stderr",
     "output_type": "stream",
     "text": [
      "\u001b[36m(func pid=3856)\u001b[0m Checkpoint successfully created at: Checkpoint(filesystem=local, path=C:/Users/lefti/ray_results/train_pinn_1_2025-03-07_04-06-47/trial_351f8_00028/checkpoint_000019)\u001b[32m [repeated 2x across cluster]\u001b[0m\n",
      "\u001b[36m(func pid=332)\u001b[0m Checkpoint successfully created at: Checkpoint(filesystem=local, path=C:/Users/lefti/ray_results/train_pinn_1_2025-03-07_04-06-47/trial_351f8_00031/checkpoint_000001)\u001b[32m [repeated 4x across cluster]\u001b[0m\n",
      "\u001b[36m(func pid=3856)\u001b[0m Checkpoint successfully created at: Checkpoint(filesystem=local, path=C:/Users/lefti/ray_results/train_pinn_1_2025-03-07_04-06-47/trial_351f8_00028/checkpoint_000022)\u001b[32m [repeated 2x across cluster]\u001b[0m\n",
      "\u001b[36m(func pid=3856)\u001b[0m Checkpoint successfully created at: Checkpoint(filesystem=local, path=C:/Users/lefti/ray_results/train_pinn_1_2025-03-07_04-06-47/trial_351f8_00028/checkpoint_000024)\u001b[32m [repeated 2x across cluster]\u001b[0m\n",
      "\u001b[36m(func pid=3856)\u001b[0m Checkpoint successfully created at: Checkpoint(filesystem=local, path=C:/Users/lefti/ray_results/train_pinn_1_2025-03-07_04-06-47/trial_351f8_00028/checkpoint_000026)\u001b[32m [repeated 2x across cluster]\u001b[0m\n",
      "\u001b[36m(func pid=3856)\u001b[0m Checkpoint successfully created at: Checkpoint(filesystem=local, path=C:/Users/lefti/ray_results/train_pinn_1_2025-03-07_04-06-47/trial_351f8_00028/checkpoint_000028)\u001b[32m [repeated 2x across cluster]\u001b[0m\n"
     ]
    },
    {
     "name": "stdout",
     "output_type": "stream",
     "text": [
      "\u001b[36m(func pid=2652)\u001b[0m Finished Training\n"
     ]
    },
    {
     "name": "stderr",
     "output_type": "stream",
     "text": [
      "\u001b[36m(func pid=2652)\u001b[0m Checkpoint successfully created at: Checkpoint(filesystem=local, path=C:/Users/lefti/ray_results/train_pinn_1_2025-03-07_04-06-47/trial_351f8_00033/checkpoint_000000)\u001b[32m [repeated 2x across cluster]\u001b[0m\n",
      "\u001b[36m(func pid=2652)\u001b[0m Checkpoint successfully created at: Checkpoint(filesystem=local, path=C:/Users/lefti/ray_results/train_pinn_1_2025-03-07_04-06-47/trial_351f8_00033/checkpoint_000002)\u001b[32m [repeated 2x across cluster]\u001b[0m\n"
     ]
    },
    {
     "name": "stdout",
     "output_type": "stream",
     "text": [
      "\u001b[36m(func pid=27144)\u001b[0m Finished Training\n"
     ]
    },
    {
     "name": "stderr",
     "output_type": "stream",
     "text": [
      "\u001b[36m(func pid=27144)\u001b[0m Checkpoint successfully created at: Checkpoint(filesystem=local, path=C:/Users/lefti/ray_results/train_pinn_1_2025-03-07_04-06-47/trial_351f8_00034/checkpoint_000000)\u001b[32m [repeated 2x across cluster]\u001b[0m\n"
     ]
    },
    {
     "name": "stdout",
     "output_type": "stream",
     "text": [
      "\u001b[36m(func pid=14432)\u001b[0m Finished Training\u001b[32m [repeated 2x across cluster]\u001b[0m\n"
     ]
    },
    {
     "name": "stderr",
     "output_type": "stream",
     "text": [
      "\u001b[36m(func pid=14432)\u001b[0m Checkpoint successfully created at: Checkpoint(filesystem=local, path=C:/Users/lefti/ray_results/train_pinn_1_2025-03-07_04-06-47/trial_351f8_00036/checkpoint_000000)\u001b[32m [repeated 4x across cluster]\u001b[0m\n"
     ]
    },
    {
     "name": "stdout",
     "output_type": "stream",
     "text": [
      "\u001b[36m(func pid=11500)\u001b[0m Finished Training\n"
     ]
    },
    {
     "name": "stderr",
     "output_type": "stream",
     "text": [
      "\u001b[36m(func pid=11500)\u001b[0m Checkpoint successfully created at: Checkpoint(filesystem=local, path=C:/Users/lefti/ray_results/train_pinn_1_2025-03-07_04-06-47/trial_351f8_00037/checkpoint_000000)\n"
     ]
    },
    {
     "name": "stdout",
     "output_type": "stream",
     "text": [
      "\u001b[36m(func pid=20604)\u001b[0m Finished Training\n"
     ]
    },
    {
     "name": "stderr",
     "output_type": "stream",
     "text": [
      "\u001b[36m(func pid=20604)\u001b[0m Checkpoint successfully created at: Checkpoint(filesystem=local, path=C:/Users/lefti/ray_results/train_pinn_1_2025-03-07_04-06-47/trial_351f8_00039/checkpoint_000000)\n",
      "\u001b[36m(func pid=17844)\u001b[0m Checkpoint successfully created at: Checkpoint(filesystem=local, path=C:/Users/lefti/ray_results/train_pinn_1_2025-03-07_04-06-47/trial_351f8_00038/checkpoint_000002)\u001b[32m [repeated 3x across cluster]\u001b[0m\n"
     ]
    },
    {
     "name": "stdout",
     "output_type": "stream",
     "text": [
      "\u001b[36m(func pid=20756)\u001b[0m Finished Training\u001b[32m [repeated 2x across cluster]\u001b[0m\n"
     ]
    },
    {
     "name": "stderr",
     "output_type": "stream",
     "text": [
      "\u001b[36m(func pid=20756)\u001b[0m Checkpoint successfully created at: Checkpoint(filesystem=local, path=C:/Users/lefti/ray_results/train_pinn_1_2025-03-07_04-06-47/trial_351f8_00040/checkpoint_000000)\u001b[32m [repeated 2x across cluster]\u001b[0m\n",
      "\u001b[36m(func pid=20756)\u001b[0m Checkpoint successfully created at: Checkpoint(filesystem=local, path=C:/Users/lefti/ray_results/train_pinn_1_2025-03-07_04-06-47/trial_351f8_00040/checkpoint_000002)\u001b[32m [repeated 2x across cluster]\u001b[0m\n"
     ]
    },
    {
     "name": "stdout",
     "output_type": "stream",
     "text": [
      "\u001b[36m(func pid=23892)\u001b[0m Finished Training\n",
      "\u001b[36m(func pid=26348)\u001b[0m Finished Training\n"
     ]
    },
    {
     "name": "stderr",
     "output_type": "stream",
     "text": [
      "\u001b[36m(func pid=23892)\u001b[0m Checkpoint successfully created at: Checkpoint(filesystem=local, path=C:/Users/lefti/ray_results/train_pinn_1_2025-03-07_04-06-47/trial_351f8_00041/checkpoint_000001)\u001b[32m [repeated 3x across cluster]\u001b[0m\n",
      "\u001b[36m(func pid=23892)\u001b[0m Checkpoint successfully created at: Checkpoint(filesystem=local, path=C:/Users/lefti/ray_results/train_pinn_1_2025-03-07_04-06-47/trial_351f8_00041/checkpoint_000003)\u001b[32m [repeated 3x across cluster]\u001b[0m\n"
     ]
    },
    {
     "name": "stdout",
     "output_type": "stream",
     "text": [
      "\u001b[36m(func pid=1320)\u001b[0m Finished Training\n"
     ]
    },
    {
     "name": "stderr",
     "output_type": "stream",
     "text": [
      "\u001b[36m(func pid=1320)\u001b[0m Checkpoint successfully created at: Checkpoint(filesystem=local, path=C:/Users/lefti/ray_results/train_pinn_1_2025-03-07_04-06-47/trial_351f8_00043/checkpoint_000000)\n",
      "\u001b[36m(func pid=1320)\u001b[0m Checkpoint successfully created at: Checkpoint(filesystem=local, path=C:/Users/lefti/ray_results/train_pinn_1_2025-03-07_04-06-47/trial_351f8_00043/checkpoint_000001)\n",
      "\u001b[36m(func pid=1320)\u001b[0m Checkpoint successfully created at: Checkpoint(filesystem=local, path=C:/Users/lefti/ray_results/train_pinn_1_2025-03-07_04-06-47/trial_351f8_00043/checkpoint_000002)\n",
      "\u001b[36m(func pid=1320)\u001b[0m Checkpoint successfully created at: Checkpoint(filesystem=local, path=C:/Users/lefti/ray_results/train_pinn_1_2025-03-07_04-06-47/trial_351f8_00043/checkpoint_000003)\n",
      "\u001b[36m(func pid=1320)\u001b[0m Checkpoint successfully created at: Checkpoint(filesystem=local, path=C:/Users/lefti/ray_results/train_pinn_1_2025-03-07_04-06-47/trial_351f8_00043/checkpoint_000004)\n",
      "\u001b[36m(func pid=1320)\u001b[0m Checkpoint successfully created at: Checkpoint(filesystem=local, path=C:/Users/lefti/ray_results/train_pinn_1_2025-03-07_04-06-47/trial_351f8_00043/checkpoint_000005)\n",
      "\u001b[36m(func pid=1320)\u001b[0m Checkpoint successfully created at: Checkpoint(filesystem=local, path=C:/Users/lefti/ray_results/train_pinn_1_2025-03-07_04-06-47/trial_351f8_00043/checkpoint_000006)\n",
      "\u001b[36m(func pid=1320)\u001b[0m Checkpoint successfully created at: Checkpoint(filesystem=local, path=C:/Users/lefti/ray_results/train_pinn_1_2025-03-07_04-06-47/trial_351f8_00043/checkpoint_000007)\n",
      "\u001b[36m(func pid=1320)\u001b[0m Checkpoint successfully created at: Checkpoint(filesystem=local, path=C:/Users/lefti/ray_results/train_pinn_1_2025-03-07_04-06-47/trial_351f8_00043/checkpoint_000008)\n"
     ]
    },
    {
     "name": "stdout",
     "output_type": "stream",
     "text": [
      "\u001b[36m(func pid=26696)\u001b[0m Finished Training\n"
     ]
    },
    {
     "name": "stderr",
     "output_type": "stream",
     "text": [
      "\u001b[36m(func pid=1320)\u001b[0m Checkpoint successfully created at: Checkpoint(filesystem=local, path=C:/Users/lefti/ray_results/train_pinn_1_2025-03-07_04-06-47/trial_351f8_00043/checkpoint_000009)\n",
      "\u001b[36m(func pid=26696)\u001b[0m Checkpoint successfully created at: Checkpoint(filesystem=local, path=C:/Users/lefti/ray_results/train_pinn_1_2025-03-07_04-06-47/trial_351f8_00044/checkpoint_000000)\n"
     ]
    },
    {
     "name": "stdout",
     "output_type": "stream",
     "text": [
      "\u001b[36m(func pid=3404)\u001b[0m Finished Training\n",
      "\u001b[36m(func pid=17980)\u001b[0m Finished Training\n"
     ]
    },
    {
     "name": "stderr",
     "output_type": "stream",
     "text": [
      "\u001b[36m(func pid=3404)\u001b[0m Checkpoint successfully created at: Checkpoint(filesystem=local, path=C:/Users/lefti/ray_results/train_pinn_1_2025-03-07_04-06-47/trial_351f8_00046/checkpoint_000000)\u001b[32m [repeated 3x across cluster]\u001b[0m\n",
      "\u001b[36m(func pid=3404)\u001b[0m Checkpoint successfully created at: Checkpoint(filesystem=local, path=C:/Users/lefti/ray_results/train_pinn_1_2025-03-07_04-06-47/trial_351f8_00046/checkpoint_000002)\u001b[32m [repeated 6x across cluster]\u001b[0m\n",
      "\u001b[36m(func pid=3404)\u001b[0m Checkpoint successfully created at: Checkpoint(filesystem=local, path=C:/Users/lefti/ray_results/train_pinn_1_2025-03-07_04-06-47/trial_351f8_00046/checkpoint_000004)\u001b[32m [repeated 6x across cluster]\u001b[0m\n",
      "\u001b[36m(func pid=3404)\u001b[0m Checkpoint successfully created at: Checkpoint(filesystem=local, path=C:/Users/lefti/ray_results/train_pinn_1_2025-03-07_04-06-47/trial_351f8_00046/checkpoint_000006)\u001b[32m [repeated 4x across cluster]\u001b[0m\n",
      "\u001b[36m(func pid=3404)\u001b[0m Checkpoint successfully created at: Checkpoint(filesystem=local, path=C:/Users/lefti/ray_results/train_pinn_1_2025-03-07_04-06-47/trial_351f8_00046/checkpoint_000008)\u001b[32m [repeated 4x across cluster]\u001b[0m\n",
      "\u001b[36m(func pid=3404)\u001b[0m Checkpoint successfully created at: Checkpoint(filesystem=local, path=C:/Users/lefti/ray_results/train_pinn_1_2025-03-07_04-06-47/trial_351f8_00046/checkpoint_000010)\u001b[32m [repeated 4x across cluster]\u001b[0m\n",
      "\u001b[36m(func pid=3404)\u001b[0m Checkpoint successfully created at: Checkpoint(filesystem=local, path=C:/Users/lefti/ray_results/train_pinn_1_2025-03-07_04-06-47/trial_351f8_00046/checkpoint_000012)\u001b[32m [repeated 4x across cluster]\u001b[0m\n",
      "\u001b[36m(func pid=1320)\u001b[0m Checkpoint successfully created at: Checkpoint(filesystem=local, path=C:/Users/lefti/ray_results/train_pinn_1_2025-03-07_04-06-47/trial_351f8_00043/checkpoint_000025)\u001b[32m [repeated 3x across cluster]\u001b[0m\n",
      "\u001b[36m(func pid=1320)\u001b[0m Checkpoint successfully created at: Checkpoint(filesystem=local, path=C:/Users/lefti/ray_results/train_pinn_1_2025-03-07_04-06-47/trial_351f8_00043/checkpoint_000027)\u001b[32m [repeated 4x across cluster]\u001b[0m\n"
     ]
    },
    {
     "name": "stdout",
     "output_type": "stream",
     "text": [
      "\u001b[36m(func pid=25228)\u001b[0m Finished Training\n"
     ]
    },
    {
     "name": "stderr",
     "output_type": "stream",
     "text": [
      "\u001b[36m(func pid=1320)\u001b[0m Checkpoint successfully created at: Checkpoint(filesystem=local, path=C:/Users/lefti/ray_results/train_pinn_1_2025-03-07_04-06-47/trial_351f8_00043/checkpoint_000029)\u001b[32m [repeated 4x across cluster]\u001b[0m\n"
     ]
    },
    {
     "name": "stdout",
     "output_type": "stream",
     "text": [
      "\u001b[36m(func pid=29004)\u001b[0m Finished Training\n"
     ]
    },
    {
     "name": "stderr",
     "output_type": "stream",
     "text": [
      "\u001b[36m(func pid=3404)\u001b[0m Checkpoint successfully created at: Checkpoint(filesystem=local, path=C:/Users/lefti/ray_results/train_pinn_1_2025-03-07_04-06-47/trial_351f8_00046/checkpoint_000020)\u001b[32m [repeated 5x across cluster]\u001b[0m\n",
      "\u001b[36m(func pid=3404)\u001b[0m Checkpoint successfully created at: Checkpoint(filesystem=local, path=C:/Users/lefti/ray_results/train_pinn_1_2025-03-07_04-06-47/trial_351f8_00046/checkpoint_000022)\u001b[32m [repeated 5x across cluster]\u001b[0m\n",
      "\u001b[36m(func pid=3404)\u001b[0m Checkpoint successfully created at: Checkpoint(filesystem=local, path=C:/Users/lefti/ray_results/train_pinn_1_2025-03-07_04-06-47/trial_351f8_00046/checkpoint_000024)\u001b[32m [repeated 2x across cluster]\u001b[0m\n",
      "\u001b[36m(func pid=3404)\u001b[0m Checkpoint successfully created at: Checkpoint(filesystem=local, path=C:/Users/lefti/ray_results/train_pinn_1_2025-03-07_04-06-47/trial_351f8_00046/checkpoint_000026)\u001b[32m [repeated 2x across cluster]\u001b[0m\n"
     ]
    },
    {
     "name": "stdout",
     "output_type": "stream",
     "text": [
      "\u001b[36m(func pid=18460)\u001b[0m Finished Training\n"
     ]
    },
    {
     "name": "stderr",
     "output_type": "stream",
     "text": [
      "\u001b[36m(func pid=3404)\u001b[0m Checkpoint successfully created at: Checkpoint(filesystem=local, path=C:/Users/lefti/ray_results/train_pinn_1_2025-03-07_04-06-47/trial_351f8_00046/checkpoint_000028)\u001b[32m [repeated 2x across cluster]\u001b[0m\n",
      "2025-03-07 04:19:38,143\tINFO tune.py:1009 -- Wrote the latest version of all result files and experiment state to 'C:/Users/lefti/ray_results/train_pinn_1_2025-03-07_04-06-47' in 0.0833s.\n",
      "2025-03-07 04:19:38,188\tINFO tune.py:1041 -- Total run time: 770.56 seconds (770.39 seconds for the tuning loop).\n"
     ]
    },
    {
     "name": "stdout",
     "output_type": "stream",
     "text": [
      "Best trial config: {'input_size': 5, 'lr': 0.0005306468844050074, 'batch_size': 32, 'hidden_size': 8, 'output_size': 40, 'layer_amt': 3, 'lambda_': 0.05452555236989918}\n",
      "Best trial final validation loss: 0.3125165038638645\n"
     ]
    },
    {
     "ename": "TypeError",
     "evalue": "train_pinn_1() takes from 1 to 2 positional arguments but 3 were given",
     "output_type": "error",
     "traceback": [
      "\u001b[1;31m---------------------------------------------------------------------------\u001b[0m",
      "\u001b[1;31mTypeError\u001b[0m                                 Traceback (most recent call last)",
      "Cell \u001b[1;32mIn[15], line 61\u001b[0m\n\u001b[0;32m     56\u001b[0m     \u001b[38;5;28;01mreturn\u001b[39;00m df\n\u001b[0;32m     59\u001b[0m \u001b[38;5;28;01mif\u001b[39;00m \u001b[38;5;18m__name__\u001b[39m \u001b[38;5;241m==\u001b[39m \u001b[38;5;124m\"\u001b[39m\u001b[38;5;124m__main__\u001b[39m\u001b[38;5;124m\"\u001b[39m:\n\u001b[0;32m     60\u001b[0m     \u001b[38;5;66;03m# You can change the number of GPUs per trial here:\u001b[39;00m\n\u001b[1;32m---> 61\u001b[0m     df \u001b[38;5;241m=\u001b[39m \u001b[43mmain\u001b[49m\u001b[43m(\u001b[49m\u001b[43mnum_samples\u001b[49m\u001b[38;5;241;43m=\u001b[39;49m\u001b[38;5;241;43m50\u001b[39;49m\u001b[43m,\u001b[49m\u001b[43m \u001b[49m\u001b[43mmax_num_epochs\u001b[49m\u001b[38;5;241;43m=\u001b[39;49m\u001b[38;5;241;43m30\u001b[39;49m\u001b[43m,\u001b[49m\u001b[43m \u001b[49m\u001b[43mgpus_per_trial\u001b[49m\u001b[38;5;241;43m=\u001b[39;49m\u001b[38;5;241;43m0\u001b[39;49m\u001b[43m)\u001b[49m\n",
      "Cell \u001b[1;32mIn[15], line 34\u001b[0m, in \u001b[0;36mmain\u001b[1;34m(num_samples, max_num_epochs, gpus_per_trial)\u001b[0m\n\u001b[0;32m     31\u001b[0m \u001b[38;5;28mprint\u001b[39m(\u001b[38;5;124mf\u001b[39m\u001b[38;5;124m\"\u001b[39m\u001b[38;5;124mBest trial config: \u001b[39m\u001b[38;5;132;01m{\u001b[39;00mbest_trial\u001b[38;5;241m.\u001b[39mconfig\u001b[38;5;132;01m}\u001b[39;00m\u001b[38;5;124m\"\u001b[39m)\n\u001b[0;32m     32\u001b[0m \u001b[38;5;28mprint\u001b[39m(\u001b[38;5;124mf\u001b[39m\u001b[38;5;124m\"\u001b[39m\u001b[38;5;124mBest trial final validation loss: \u001b[39m\u001b[38;5;132;01m{\u001b[39;00mbest_trial\u001b[38;5;241m.\u001b[39mlast_result[\u001b[38;5;124m'\u001b[39m\u001b[38;5;124mloss\u001b[39m\u001b[38;5;124m'\u001b[39m]\u001b[38;5;132;01m}\u001b[39;00m\u001b[38;5;124m\"\u001b[39m)\n\u001b[1;32m---> 34\u001b[0m best_trained_model \u001b[38;5;241m=\u001b[39m \u001b[43mtrain_pinn_1\u001b[49m\u001b[43m(\u001b[49m\u001b[43mbest_trial\u001b[49m\u001b[38;5;241;43m.\u001b[39;49m\u001b[43mconfig\u001b[49m\u001b[43m[\u001b[49m\u001b[38;5;124;43m\"\u001b[39;49m\u001b[38;5;124;43minput_size\u001b[39;49m\u001b[38;5;124;43m\"\u001b[39;49m\u001b[43m]\u001b[49m\u001b[43m,\u001b[49m\u001b[43m \u001b[49m\u001b[43mbest_trial\u001b[49m\u001b[38;5;241;43m.\u001b[39;49m\u001b[43mconfig\u001b[49m\u001b[43m[\u001b[49m\u001b[38;5;124;43m\"\u001b[39;49m\u001b[38;5;124;43mhidden_size\u001b[39;49m\u001b[38;5;124;43m\"\u001b[39;49m\u001b[43m]\u001b[49m\u001b[43m,\u001b[49m\u001b[43m \u001b[49m\u001b[43mbest_trial\u001b[49m\u001b[38;5;241;43m.\u001b[39;49m\u001b[43mconfig\u001b[49m\u001b[43m[\u001b[49m\u001b[38;5;124;43m\"\u001b[39;49m\u001b[38;5;124;43mlayer_amt\u001b[39;49m\u001b[38;5;124;43m\"\u001b[39;49m\u001b[43m]\u001b[49m\u001b[43m)\u001b[49m\n\u001b[0;32m     35\u001b[0m device \u001b[38;5;241m=\u001b[39m \u001b[38;5;124m\"\u001b[39m\u001b[38;5;124mcpu\u001b[39m\u001b[38;5;124m\"\u001b[39m\n\u001b[0;32m     36\u001b[0m \u001b[38;5;28;01mif\u001b[39;00m torch\u001b[38;5;241m.\u001b[39mcuda\u001b[38;5;241m.\u001b[39mis_available():\n",
      "\u001b[1;31mTypeError\u001b[0m: train_pinn_1() takes from 1 to 2 positional arguments but 3 were given"
     ]
    }
   ],
   "source": [
    "def main(num_samples=10, max_num_epochs=10, gpus_per_trial=2):\n",
    "    #data_dir = os.path.abspath(\"./data_synthetic\")\n",
    "    #load_data(data_dir)\n",
    "    config = {\n",
    "        'input_size' : 5,\n",
    "        'lr' : tune.loguniform(1e-6,1e-1),\n",
    "        'batch_size' : 32,\n",
    "        'hidden_size' : 8,\n",
    "        'output_size' : 40,\n",
    "        'layer_amt' : 3,\n",
    "        'lambda_' : tune.loguniform(1e-6,1e-1)\n",
    "        }\n",
    "    scheduler = ASHAScheduler(\n",
    "        metric=\"loss\",\n",
    "        mode=\"min\",\n",
    "        max_t=max_num_epochs,\n",
    "        grace_period=1,\n",
    "        reduction_factor=2,\n",
    "    )\n",
    "    \n",
    "    result = tune.run(\n",
    "        partial(train_pinn_1, data_dir='delete'),\n",
    "        resources_per_trial={\"cpu\": 1, \"gpu\": gpus_per_trial},\n",
    "        config=config,\n",
    "        num_samples=num_samples,\n",
    "        scheduler=scheduler,\n",
    "        trial_dirname_creator=custom_trial_name\n",
    "    )\n",
    "\n",
    "    best_trial = result.get_best_trial(\"loss\", \"min\", \"last\")\n",
    "    print(f\"Best trial config: {best_trial.config}\")\n",
    "    print(f\"Best trial final validation loss: {best_trial.last_result['loss']}\")\n",
    "    \n",
    "    best_trained_model = train_pinn_1(best_trial.config[\"input_size\"], best_trial.config[\"hidden_size\"], best_trial.config[\"layer_amt\"])\n",
    "    device = \"cpu\"\n",
    "    if torch.cuda.is_available():\n",
    "        device = \"cuda:0\"\n",
    "        if gpus_per_trial > 1:\n",
    "            best_trained_model = nn.DataParallel(best_trained_model)\n",
    "    best_trained_model.to(device)\n",
    "\n",
    "    best_checkpoint = result.get_best_checkpoint(trial=best_trial, metric=\"accuracy\", mode=\"max\")\n",
    "    with best_checkpoint.as_directory() as checkpoint_dir:\n",
    "        data_path = Path(checkpoint_dir) / \"data.pkl\"\n",
    "        with open(data_path, \"rb\") as fp:\n",
    "            best_checkpoint_data = pickle.load(fp)\n",
    "\n",
    "        best_trained_model.load_state_dict(best_checkpoint_data[\"net_state_dict\"])\n",
    "        \n",
    "\n",
    "        test_acc = test_accuracy(best_trained_model, best_trial.config, device)\n",
    "        print(\"Best trial test set accuracy: {}\".format(test_acc))\n",
    "        \n",
    "    df = result.get_dataframe()\n",
    "    \n",
    "    return df\n",
    "\n",
    "\n",
    "if __name__ == \"__main__\":\n",
    "    # You can change the number of GPUs per trial here:\n",
    "    df = main(num_samples=50, max_num_epochs=30, gpus_per_trial=0)"
   ]
  },
  {
   "cell_type": "code",
   "execution_count": null,
   "id": "abe07726",
   "metadata": {
    "scrolled": false
   },
   "outputs": [],
   "source": [
    "input_sizes = [40]\n",
    "output_sizes = [5,10,20,40]\n",
    "\n",
    "\n",
    "for output in output_sizes:\n",
    "\n",
    "    config['output_size'] = output\n",
    "\n",
    "    for inputs in input_sizes:\n",
    "\n",
    "        config['input_size'] = inputs    \n",
    "        \n",
    "        \n",
    "        \n",
    "        state_dict = torch.load(f'models/mlp/output_size{output}input_size{inputs}.pt')\n",
    "        mod = tm.train_model(config, it_amt=0, model_fnc=ml_models.MLP, data_dir='data_synthetic')\n",
    "        mod.load_state_dict(state_dict)\n",
    "\n",
    "        pinn_mod = pinns.decay_pinn(mod)\n",
    "        \n",
    "        pinn_mod = pinns.train_pinn_1(config, it_amt=100, model=pinn_mod, data_dir = 'data_synthetic')\n",
    "        \n",
    "        torch.save(obj = mod.state_dict(), f = 'pinn_models/mlp/'+'output_size' + str(output) + 'input_size' + str(inputs) + '.pt')"
   ]
  },
  {
   "cell_type": "code",
   "execution_count": null,
   "id": "4c43c0a1",
   "metadata": {
    "scrolled": false
   },
   "outputs": [],
   "source": [
    "input_sizes = [40]\n",
    "output_sizes = [5,10,20,40]\n",
    "\n",
    "\n",
    "for output in output_sizes:\n",
    "\n",
    "    config['output_size'] = output\n",
    "\n",
    "    for inputs in input_sizes:\n",
    "\n",
    "        config['input_size'] = inputs    \n",
    "        \n",
    "        \n",
    "        \n",
    "        state_dict = torch.load(f'models/cnn/output_size{output}input_size{inputs}.pt')\n",
    "        mod = tm.train_model(config, it_amt=0, model_fnc=ml_models.CNN, data_dir='data_synthetic')\n",
    "        mod.load_state_dict(state_dict)\n",
    "\n",
    "        pinn_mod = decay_pinn(mod)\n",
    "        \n",
    "        pinn_mod = train_pinn_1(config, it_amt=100, model=pinn_mod, lambda_ = 1e-5, data_dir = 'data_synthetic')\n",
    "        \n",
    "        torch.save(obj = mod.state_dict(), f = 'pinn_models/cnn/'+'output_size' + str(output) + 'input_size' + str(inputs) + '.pt')"
   ]
  },
  {
   "cell_type": "code",
   "execution_count": null,
   "id": "47986c66",
   "metadata": {
    "scrolled": false
   },
   "outputs": [],
   "source": [
    "input_sizes = [40]\n",
    "output_sizes = [5,10,20,40]\n",
    "\n",
    "\n",
    "for output in output_sizes:\n",
    "\n",
    "    config['output_size'] = output\n",
    "\n",
    "    for inputs in input_sizes:\n",
    "\n",
    "        config['input_size'] = inputs    \n",
    "        \n",
    "        \n",
    "        \n",
    "        state_dict = torch.load(f'models/lstm/output_size{output}input_size{inputs}.pt')\n",
    "        mod = tm.train_model(config, it_amt=0, model_fnc=ml_models.LSTM, data_dir='data_synthetic')\n",
    "        mod.load_state_dict(state_dict)\n",
    "\n",
    "        pinn_mod = decay_pinn(mod)\n",
    "        \n",
    "        pinn_mod = train_pinn_1(config, it_amt=100, model=pinn_mod, lambda_ = 1e-5, data_dir = 'data_synthetic')\n",
    "        \n",
    "        torch.save(obj = mod.state_dict(), f = 'pinn_models/lstm/'+'output_size' + str(output) + 'input_size' + str(inputs) + '.pt')"
   ]
  },
  {
   "cell_type": "code",
   "execution_count": null,
   "id": "587ec71f",
   "metadata": {},
   "outputs": [],
   "source": []
  },
  {
   "cell_type": "code",
   "execution_count": null,
   "id": "bbb2d386",
   "metadata": {},
   "outputs": [],
   "source": []
  },
  {
   "cell_type": "code",
   "execution_count": null,
   "id": "30da1de0",
   "metadata": {},
   "outputs": [],
   "source": []
  }
 ],
 "metadata": {
  "kernelspec": {
   "display_name": "Python 3 (ipykernel)",
   "language": "python",
   "name": "python3"
  },
  "language_info": {
   "codemirror_mode": {
    "name": "ipython",
    "version": 3
   },
   "file_extension": ".py",
   "mimetype": "text/x-python",
   "name": "python",
   "nbconvert_exporter": "python",
   "pygments_lexer": "ipython3",
   "version": "3.9.16"
  }
 },
 "nbformat": 4,
 "nbformat_minor": 5
}
