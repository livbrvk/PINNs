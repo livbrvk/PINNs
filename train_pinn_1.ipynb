{
 "cells": [
  {
   "cell_type": "code",
   "execution_count": 8,
   "id": "1c0dad2b",
   "metadata": {},
   "outputs": [],
   "source": [
    "import torch\n",
    "import torch.nn as nn\n",
    "import seaborn as sns\n",
    "import matplotlib.pyplot as plt\n",
    "import numpy as np\n",
    "import ml_models\n",
    "import data_pipeline2 as dp\n",
    "import training_models as tm\n",
    "\n",
    "import os\n",
    "import seaborn as sns\n",
    "from torch.utils.data import DataLoader, TensorDataset\n",
    "import torch.optim as optim\n",
    "from torch_geometric.nn import GCNConv\n",
    "from torch_geometric.nn.models import GCN\n",
    "\n",
    "import pinns"
   ]
  },
  {
   "cell_type": "code",
   "execution_count": 11,
   "id": "b9d9d1d3",
   "metadata": {},
   "outputs": [],
   "source": [
    "config = {\n",
    "    'input_size' : 10,\n",
    "    'lr' : 4e-5,\n",
    "    'batch_size' : 32,\n",
    "    'hidden_size' : 8,\n",
    "    'output_size' : 40,\n",
    "    'layer_amt' : 3,\n",
    "    'lambda_' : 3e-5\n",
    "    }"
   ]
  },
  {
   "cell_type": "code",
   "execution_count": 12,
   "id": "abe07726",
   "metadata": {
    "scrolled": false
   },
   "outputs": [
    {
     "name": "stdout",
     "output_type": "stream",
     "text": [
      "5\n",
      "Finished Training\n"
     ]
    },
    {
     "name": "stderr",
     "output_type": "stream",
     "text": [
      "C:\\Users\\livb\\AppData\\Local\\Temp\\ipykernel_26636\\3434130425.py:16: FutureWarning: You are using `torch.load` with `weights_only=False` (the current default value), which uses the default pickle module implicitly. It is possible to construct malicious pickle data which will execute arbitrary code during unpickling (See https://github.com/pytorch/pytorch/blob/main/SECURITY.md#untrusted-models for more details). In a future release, the default value for `weights_only` will be flipped to `True`. This limits the functions that could be executed during unpickling. Arbitrary objects will no longer be allowed to be loaded via this mode unless they are explicitly allowlisted by the user via `torch.serialization.add_safe_globals`. We recommend you start setting `weights_only=True` for any use case where you don't have full control of the loaded file. Please open an issue on GitHub for any issues related to this experimental feature.\n",
      "  state_dict = torch.load(f'models/mlp/output_size{output}input_size{inputs}.pt')\n"
     ]
    },
    {
     "name": "stdout",
     "output_type": "stream",
     "text": [
      "RMSE, train 0.2995319166801378, test 0.3130755340210115\n",
      "RMSE, train 0.2995307757029615, test 0.3130690496076237\n",
      "RMSE, train 0.2995829348677819, test 0.3130058790698196\n",
      "RMSE, train 0.29963154628107774, test 0.31315910454952356\n",
      "RMSE, train 0.2997069344252421, test 0.3130414150278978\n",
      "RMSE, train 0.299568166687611, test 0.31302379297487665\n",
      "RMSE, train 0.29943835921130146, test 0.3130457642102482\n",
      "RMSE, train 0.2994718286038028, test 0.3128798582939186\n",
      "RMSE, train 0.29961270534759044, test 0.31309250463740995\n",
      "RMSE, train 0.299659718037526, test 0.3132452633645799\n",
      "RMSE, train 0.2996349603593495, test 0.31300145237132754\n",
      "RMSE, train 0.29957881653658625, test 0.3131653067439493\n",
      "RMSE, train 0.2994968887500483, test 0.31297574741671785\n",
      "RMSE, train 0.29952694111319217, test 0.31304417640873883\n",
      "RMSE, train 0.2995262678284517, test 0.3130363806931659\n",
      "RMSE, train 0.29952178323472917, test 0.31310929508522306\n",
      "RMSE, train 0.2997153593377554, test 0.3130041914756852\n",
      "RMSE, train 0.29958217330550213, test 0.3129998234787373\n",
      "Early stopping at epoch 18 (no improvement for 10 epochs).\n",
      "Finished Training\n",
      "10\n"
     ]
    },
    {
     "name": "stderr",
     "output_type": "stream",
     "text": [
      "C:\\Users\\livb\\AppData\\Local\\Temp\\ipykernel_26636\\3434130425.py:16: FutureWarning: You are using `torch.load` with `weights_only=False` (the current default value), which uses the default pickle module implicitly. It is possible to construct malicious pickle data which will execute arbitrary code during unpickling (See https://github.com/pytorch/pytorch/blob/main/SECURITY.md#untrusted-models for more details). In a future release, the default value for `weights_only` will be flipped to `True`. This limits the functions that could be executed during unpickling. Arbitrary objects will no longer be allowed to be loaded via this mode unless they are explicitly allowlisted by the user via `torch.serialization.add_safe_globals`. We recommend you start setting `weights_only=True` for any use case where you don't have full control of the loaded file. Please open an issue on GitHub for any issues related to this experimental feature.\n",
      "  state_dict = torch.load(f'models/mlp/output_size{output}input_size{inputs}.pt')\n"
     ]
    },
    {
     "name": "stdout",
     "output_type": "stream",
     "text": [
      "Finished Training\n",
      "RMSE, train 0.281466191578092, test 0.29873372924824554\n",
      "RMSE, train 0.28144733645398207, test 0.2986664579560359\n",
      "RMSE, train 0.2814205430749089, test 0.2987947263754904\n",
      "RMSE, train 0.2814204897919689, test 0.29867923942704994\n",
      "RMSE, train 0.2814351353004123, test 0.2988046909061571\n",
      "RMSE, train 0.2814388834316321, test 0.29867944261059165\n",
      "RMSE, train 0.2814273741660696, test 0.2986151127455135\n",
      "RMSE, train 0.28143641860647634, test 0.2987411237942676\n",
      "RMSE, train 0.2814510026288153, test 0.29865305218845606\n",
      "RMSE, train 0.28142186419831383, test 0.29871012798200053\n",
      "RMSE, train 0.2814145717732232, test 0.2986850878223777\n",
      "RMSE, train 0.28144148500128224, test 0.29873353661969304\n",
      "RMSE, train 0.28140108629760113, test 0.29882710706442595\n",
      "RMSE, train 0.2814206045610134, test 0.29871403037880856\n",
      "RMSE, train 0.2813965187906617, test 0.2987866806797683\n",
      "RMSE, train 0.2814053932976241, test 0.2987601620455583\n",
      "RMSE, train 0.2813670967865472, test 0.29862562380731106\n",
      "Early stopping at epoch 17 (no improvement for 10 epochs).\n",
      "Finished Training\n",
      "20\n",
      "Finished Training\n"
     ]
    },
    {
     "name": "stderr",
     "output_type": "stream",
     "text": [
      "C:\\Users\\livb\\AppData\\Local\\Temp\\ipykernel_26636\\3434130425.py:16: FutureWarning: You are using `torch.load` with `weights_only=False` (the current default value), which uses the default pickle module implicitly. It is possible to construct malicious pickle data which will execute arbitrary code during unpickling (See https://github.com/pytorch/pytorch/blob/main/SECURITY.md#untrusted-models for more details). In a future release, the default value for `weights_only` will be flipped to `True`. This limits the functions that could be executed during unpickling. Arbitrary objects will no longer be allowed to be loaded via this mode unless they are explicitly allowlisted by the user via `torch.serialization.add_safe_globals`. We recommend you start setting `weights_only=True` for any use case where you don't have full control of the loaded file. Please open an issue on GitHub for any issues related to this experimental feature.\n",
      "  state_dict = torch.load(f'models/mlp/output_size{output}input_size{inputs}.pt')\n"
     ]
    },
    {
     "name": "stdout",
     "output_type": "stream",
     "text": [
      "RMSE, train 0.27590958685727135, test 0.29784753421942395\n",
      "RMSE, train 0.27589768564926004, test 0.2980157592230373\n",
      "RMSE, train 0.27593309205336713, test 0.29807493686676023\n",
      "RMSE, train 0.2758735363293851, test 0.29813366532325747\n",
      "RMSE, train 0.2759106529530168, test 0.2981841764516301\n",
      "RMSE, train 0.2758440443206669, test 0.2984729462199741\n",
      "RMSE, train 0.27587224908594815, test 0.2981833275821474\n",
      "RMSE, train 0.27584945476762046, test 0.2980298052231471\n",
      "RMSE, train 0.27587955117707624, test 0.2977299566070239\n",
      "RMSE, train 0.2758309736325734, test 0.29785027305285133\n",
      "RMSE, train 0.27586924780732536, test 0.2980601648489634\n",
      "RMSE, train 0.27583922100356323, test 0.29774612453248767\n",
      "RMSE, train 0.27581730187742537, test 0.29777578413486483\n",
      "RMSE, train 0.27578402533524765, test 0.29846928235557346\n",
      "RMSE, train 0.2757950885838897, test 0.29833572175767686\n",
      "RMSE, train 0.2757908446849838, test 0.29819348222679565\n",
      "RMSE, train 0.27581582911252334, test 0.29783609906832376\n",
      "RMSE, train 0.27576257983307956, test 0.29842215461863414\n",
      "RMSE, train 0.27575240599498596, test 0.29881781505213845\n",
      "Early stopping at epoch 19 (no improvement for 10 epochs).\n",
      "Finished Training\n",
      "40\n",
      "Finished Training\n"
     ]
    },
    {
     "name": "stderr",
     "output_type": "stream",
     "text": [
      "C:\\Users\\livb\\AppData\\Local\\Temp\\ipykernel_26636\\3434130425.py:16: FutureWarning: You are using `torch.load` with `weights_only=False` (the current default value), which uses the default pickle module implicitly. It is possible to construct malicious pickle data which will execute arbitrary code during unpickling (See https://github.com/pytorch/pytorch/blob/main/SECURITY.md#untrusted-models for more details). In a future release, the default value for `weights_only` will be flipped to `True`. This limits the functions that could be executed during unpickling. Arbitrary objects will no longer be allowed to be loaded via this mode unless they are explicitly allowlisted by the user via `torch.serialization.add_safe_globals`. We recommend you start setting `weights_only=True` for any use case where you don't have full control of the loaded file. Please open an issue on GitHub for any issues related to this experimental feature.\n",
      "  state_dict = torch.load(f'models/mlp/output_size{output}input_size{inputs}.pt')\n"
     ]
    },
    {
     "name": "stdout",
     "output_type": "stream",
     "text": [
      "RMSE, train 0.2671747533981674, test 0.2924613131162448\n",
      "RMSE, train 0.2671746596276203, test 0.29402180379017806\n",
      "RMSE, train 0.2671478840513764, test 0.2948756414728287\n",
      "RMSE, train 0.26716050241038064, test 0.29241744467081165\n",
      "RMSE, train 0.2671053182113208, test 0.29297195546902144\n",
      "RMSE, train 0.2670770175174761, test 0.2914470416995195\n",
      "RMSE, train 0.26705315801956203, test 0.29193417957195866\n",
      "RMSE, train 0.2670373200348976, test 0.2918555428966498\n",
      "RMSE, train 0.2670386255808708, test 0.2935531687660095\n",
      "RMSE, train 0.2670041774849283, test 0.29198750184896666\n",
      "RMSE, train 0.26699011747339435, test 0.29142374182358766\n",
      "RMSE, train 0.26697282112461757, test 0.29273904191377836\n",
      "RMSE, train 0.26694085623059316, test 0.29287561162924153\n",
      "RMSE, train 0.26694160365612707, test 0.292596887701597\n",
      "RMSE, train 0.2669624329727387, test 0.29156018774478865\n",
      "RMSE, train 0.26691718882303744, test 0.29286561084863466\n",
      "RMSE, train 0.26686966753451624, test 0.29187541340406126\n",
      "RMSE, train 0.2668608245077163, test 0.29227363432829195\n",
      "RMSE, train 0.2668115582514403, test 0.2933300494765624\n",
      "RMSE, train 0.26685882157811497, test 0.29246499026433015\n",
      "RMSE, train 0.2667810058575182, test 0.2920378429385332\n",
      "Early stopping at epoch 21 (no improvement for 10 epochs).\n",
      "Finished Training\n"
     ]
    }
   ],
   "source": [
    "output_sizes = [40]\n",
    "input_sizes = [5,10,20,40]\n",
    "\n",
    "\n",
    "for output in output_sizes:\n",
    "\n",
    "    config['output_size'] = output\n",
    "\n",
    "    for inputs in input_sizes:\n",
    "\n",
    "        config['input_size'] = inputs  \n",
    "        \n",
    "        print(inputs)\n",
    "        \n",
    "        \n",
    "        state_dict = torch.load(f'models/mlp/output_size{output}input_size{inputs}.pt')\n",
    "        mod = tm.train_model(config, it_amt=0, model_fnc=ml_models.MLP, data_dir='data_synthetic')\n",
    "        mod.load_state_dict(state_dict)\n",
    "\n",
    "        pinn_mod = pinns.decay_pinn(mod)\n",
    "        \n",
    "        mod = pinns.train_pinn_1(config, it_amt=100, model=pinn_mod, data_dir = 'data_synthetic')\n",
    "        \n",
    "        \n",
    "        torch.save(obj = mod.state_dict(), f = 'pinn_models_1/mlp/'+'output_size' + str(output) + 'input_size' + str(inputs) + '.pt')"
   ]
  },
  {
   "cell_type": "code",
   "execution_count": 13,
   "id": "4c43c0a1",
   "metadata": {
    "scrolled": false
   },
   "outputs": [
    {
     "name": "stdout",
     "output_type": "stream",
     "text": [
      "Finished Training\n"
     ]
    },
    {
     "name": "stderr",
     "output_type": "stream",
     "text": [
      "C:\\Users\\livb\\AppData\\Local\\Temp\\ipykernel_26636\\1534118829.py:10: FutureWarning: You are using `torch.load` with `weights_only=False` (the current default value), which uses the default pickle module implicitly. It is possible to construct malicious pickle data which will execute arbitrary code during unpickling (See https://github.com/pytorch/pytorch/blob/main/SECURITY.md#untrusted-models for more details). In a future release, the default value for `weights_only` will be flipped to `True`. This limits the functions that could be executed during unpickling. Arbitrary objects will no longer be allowed to be loaded via this mode unless they are explicitly allowlisted by the user via `torch.serialization.add_safe_globals`. We recommend you start setting `weights_only=True` for any use case where you don't have full control of the loaded file. Please open an issue on GitHub for any issues related to this experimental feature.\n",
      "  state_dict = torch.load(f'models/cnn/output_size{output}input_size{inputs}.pt')\n"
     ]
    },
    {
     "name": "stdout",
     "output_type": "stream",
     "text": [
      "RMSE, train 0.2992077963495021, test 0.3131170823718562\n",
      "RMSE, train 0.29920424298727133, test 0.31273228998738106\n",
      "RMSE, train 0.2991658497629072, test 0.31298908500960376\n",
      "RMSE, train 0.29918956596285906, test 0.31311253586200755\n",
      "RMSE, train 0.29915844701904537, test 0.3128156532542874\n",
      "RMSE, train 0.2990766911241419, test 0.3127741849783695\n",
      "RMSE, train 0.2991234929025319, test 0.31309024146710984\n",
      "RMSE, train 0.2993159589601321, test 0.313247121343709\n",
      "RMSE, train 0.29915644880611914, test 0.3125972804999111\n",
      "RMSE, train 0.29914560826600034, test 0.31303077936172485\n",
      "RMSE, train 0.2992065680420486, test 0.3128440620923283\n",
      "RMSE, train 0.2993085925765609, test 0.31300153334935504\n",
      "RMSE, train 0.29919216251752195, test 0.3131288761141324\n",
      "RMSE, train 0.2991318268778855, test 0.31291815698748887\n",
      "RMSE, train 0.29909690332879063, test 0.31280182678290086\n",
      "RMSE, train 0.2991844368301569, test 0.31286295224921873\n",
      "RMSE, train 0.2990624533378699, test 0.3129213097119572\n",
      "RMSE, train 0.2992126843675716, test 0.31288506376622904\n",
      "RMSE, train 0.299213688647543, test 0.31303284114057367\n",
      "Early stopping at epoch 19 (no improvement for 10 epochs).\n",
      "Finished Training\n",
      "Finished Training\n"
     ]
    },
    {
     "name": "stderr",
     "output_type": "stream",
     "text": [
      "C:\\Users\\livb\\AppData\\Local\\Temp\\ipykernel_26636\\1534118829.py:10: FutureWarning: You are using `torch.load` with `weights_only=False` (the current default value), which uses the default pickle module implicitly. It is possible to construct malicious pickle data which will execute arbitrary code during unpickling (See https://github.com/pytorch/pytorch/blob/main/SECURITY.md#untrusted-models for more details). In a future release, the default value for `weights_only` will be flipped to `True`. This limits the functions that could be executed during unpickling. Arbitrary objects will no longer be allowed to be loaded via this mode unless they are explicitly allowlisted by the user via `torch.serialization.add_safe_globals`. We recommend you start setting `weights_only=True` for any use case where you don't have full control of the loaded file. Please open an issue on GitHub for any issues related to this experimental feature.\n",
      "  state_dict = torch.load(f'models/cnn/output_size{output}input_size{inputs}.pt')\n"
     ]
    },
    {
     "name": "stdout",
     "output_type": "stream",
     "text": [
      "RMSE, train 0.28162724588706034, test 0.29853185173124075\n",
      "RMSE, train 0.28159062060141804, test 0.2980091085967918\n",
      "RMSE, train 0.2816029681325561, test 0.2980936402454972\n",
      "RMSE, train 0.28154405838612356, test 0.2978996893701454\n",
      "RMSE, train 0.2815815501968668, test 0.29835563401381177\n",
      "RMSE, train 0.2815479741554068, test 0.29819897282868624\n",
      "RMSE, train 0.2814795355679411, test 0.2988430908881128\n",
      "RMSE, train 0.2814991574997854, test 0.29798491174976033\n",
      "RMSE, train 0.2814716924772118, test 0.29857876726115745\n",
      "RMSE, train 0.2814616122179561, test 0.2984906358954807\n",
      "RMSE, train 0.2815405127752309, test 0.2982772961258888\n",
      "RMSE, train 0.28144290889001855, test 0.2981774734022717\n",
      "RMSE, train 0.2814391908997839, test 0.29812776762992144\n",
      "RMSE, train 0.28141059101832033, test 0.2983964698699613\n",
      "Early stopping at epoch 14 (no improvement for 10 epochs).\n",
      "Finished Training\n",
      "Finished Training\n"
     ]
    },
    {
     "name": "stderr",
     "output_type": "stream",
     "text": [
      "C:\\Users\\livb\\AppData\\Local\\Temp\\ipykernel_26636\\1534118829.py:10: FutureWarning: You are using `torch.load` with `weights_only=False` (the current default value), which uses the default pickle module implicitly. It is possible to construct malicious pickle data which will execute arbitrary code during unpickling (See https://github.com/pytorch/pytorch/blob/main/SECURITY.md#untrusted-models for more details). In a future release, the default value for `weights_only` will be flipped to `True`. This limits the functions that could be executed during unpickling. Arbitrary objects will no longer be allowed to be loaded via this mode unless they are explicitly allowlisted by the user via `torch.serialization.add_safe_globals`. We recommend you start setting `weights_only=True` for any use case where you don't have full control of the loaded file. Please open an issue on GitHub for any issues related to this experimental feature.\n",
      "  state_dict = torch.load(f'models/cnn/output_size{output}input_size{inputs}.pt')\n"
     ]
    },
    {
     "name": "stdout",
     "output_type": "stream",
     "text": [
      "RMSE, train 0.2755905833607414, test 0.29722616589731643\n",
      "RMSE, train 0.2755316236028774, test 0.29636895573801464\n",
      "RMSE, train 0.2755235760118762, test 0.2966499697830942\n",
      "RMSE, train 0.2754905407399823, test 0.2963101805912124\n",
      "RMSE, train 0.2754746811650191, test 0.2967357661989\n",
      "RMSE, train 0.27544556104269313, test 0.2965075476302041\n",
      "RMSE, train 0.2754594742287844, test 0.2964036029246118\n",
      "RMSE, train 0.275389951475547, test 0.2964864447712898\n",
      "RMSE, train 0.2753375467826735, test 0.2964856165978644\n",
      "RMSE, train 0.27531107027093676, test 0.29599794927570555\n",
      "RMSE, train 0.27535254285341965, test 0.2969699088070128\n",
      "RMSE, train 0.2753233639699108, test 0.29635019716289307\n",
      "RMSE, train 0.27530444037882146, test 0.29638563377989663\n",
      "RMSE, train 0.2752435821487576, test 0.2954373550083902\n",
      "RMSE, train 0.27525129231481216, test 0.29731754776504304\n",
      "RMSE, train 0.2752421344467251, test 0.29673195249504514\n",
      "RMSE, train 0.27520305576992804, test 0.2971310171816084\n",
      "RMSE, train 0.2751778522832696, test 0.2961344482170211\n",
      "RMSE, train 0.27514700683943344, test 0.2966777342889044\n",
      "RMSE, train 0.27512165253374454, test 0.2959802501731449\n",
      "RMSE, train 0.2751393160730038, test 0.29583284821775224\n",
      "RMSE, train 0.27508180152695133, test 0.2972085850106345\n",
      "RMSE, train 0.27509563490547584, test 0.2971251348654429\n",
      "RMSE, train 0.2750414237580852, test 0.2966129528151618\n",
      "Early stopping at epoch 24 (no improvement for 10 epochs).\n",
      "Finished Training\n",
      "Finished Training\n"
     ]
    },
    {
     "name": "stderr",
     "output_type": "stream",
     "text": [
      "C:\\Users\\livb\\AppData\\Local\\Temp\\ipykernel_26636\\1534118829.py:10: FutureWarning: You are using `torch.load` with `weights_only=False` (the current default value), which uses the default pickle module implicitly. It is possible to construct malicious pickle data which will execute arbitrary code during unpickling (See https://github.com/pytorch/pytorch/blob/main/SECURITY.md#untrusted-models for more details). In a future release, the default value for `weights_only` will be flipped to `True`. This limits the functions that could be executed during unpickling. Arbitrary objects will no longer be allowed to be loaded via this mode unless they are explicitly allowlisted by the user via `torch.serialization.add_safe_globals`. We recommend you start setting `weights_only=True` for any use case where you don't have full control of the loaded file. Please open an issue on GitHub for any issues related to this experimental feature.\n",
      "  state_dict = torch.load(f'models/cnn/output_size{output}input_size{inputs}.pt')\n"
     ]
    },
    {
     "name": "stdout",
     "output_type": "stream",
     "text": [
      "RMSE, train 0.26686300950072633, test 0.3010576390303098\n",
      "RMSE, train 0.26683442257460777, test 0.29421293639983886\n",
      "RMSE, train 0.26678604616368673, test 0.29346111703377503\n",
      "RMSE, train 0.26673520395874606, test 0.2962032839273795\n",
      "RMSE, train 0.2667232533667318, test 0.29664416783131087\n",
      "RMSE, train 0.2667193489839726, test 0.2934856088115619\n",
      "RMSE, train 0.26663871522633087, test 0.29566530080942005\n",
      "RMSE, train 0.26660100075871773, test 0.2929386739165355\n",
      "RMSE, train 0.26658039848752485, test 0.29418472257944256\n",
      "RMSE, train 0.2665031415836833, test 0.29502341113029384\n",
      "RMSE, train 0.2665373523751523, test 0.29328995904861355\n",
      "RMSE, train 0.26646294488899436, test 0.2945803852799611\n",
      "RMSE, train 0.2664937424789708, test 0.29468826758555877\n",
      "RMSE, train 0.2663471624951496, test 0.2951601967215538\n",
      "RMSE, train 0.266364640814493, test 0.29316771756380033\n",
      "RMSE, train 0.2663285886387216, test 0.29436484361306214\n",
      "RMSE, train 0.26632666884924394, test 0.2936709559498689\n",
      "RMSE, train 0.26625274692740397, test 0.29365683709963775\n",
      "Early stopping at epoch 18 (no improvement for 10 epochs).\n",
      "Finished Training\n"
     ]
    }
   ],
   "source": [
    "for output in output_sizes:\n",
    "\n",
    "    config['output_size'] = output\n",
    "\n",
    "    for inputs in input_sizes:\n",
    "\n",
    "        config['input_size'] = inputs    \n",
    "        \n",
    "        \n",
    "        state_dict = torch.load(f'models/cnn/output_size{output}input_size{inputs}.pt')\n",
    "        mod = tm.train_model(config, it_amt=0, model_fnc=ml_models.CNN, data_dir='data_synthetic')\n",
    "        mod.load_state_dict(state_dict)\n",
    "\n",
    "        pinn_mod = pinns.decay_pinn(mod)\n",
    "        \n",
    "        mod = pinns.train_pinn_1(config, it_amt=100, model=pinn_mod, data_dir = 'data_synthetic')\n",
    "        \n",
    "        torch.save(obj = mod.state_dict(), f = 'pinn_models_1/cnn/'+'output_size' + str(output) + 'input_size' + str(inputs) + '.pt')"
   ]
  },
  {
   "cell_type": "code",
   "execution_count": 14,
   "id": "47986c66",
   "metadata": {
    "scrolled": false
   },
   "outputs": [
    {
     "name": "stderr",
     "output_type": "stream",
     "text": [
      "C:\\Users\\livb\\AppData\\Local\\Temp\\ipykernel_26636\\396655051.py:10: FutureWarning: You are using `torch.load` with `weights_only=False` (the current default value), which uses the default pickle module implicitly. It is possible to construct malicious pickle data which will execute arbitrary code during unpickling (See https://github.com/pytorch/pytorch/blob/main/SECURITY.md#untrusted-models for more details). In a future release, the default value for `weights_only` will be flipped to `True`. This limits the functions that could be executed during unpickling. Arbitrary objects will no longer be allowed to be loaded via this mode unless they are explicitly allowlisted by the user via `torch.serialization.add_safe_globals`. We recommend you start setting `weights_only=True` for any use case where you don't have full control of the loaded file. Please open an issue on GitHub for any issues related to this experimental feature.\n",
      "  state_dict = torch.load(f'models/lstm/output_size{output}input_size{inputs}.pt')\n"
     ]
    },
    {
     "name": "stdout",
     "output_type": "stream",
     "text": [
      "Finished Training\n",
      "RMSE, train 0.2996501653366392, test 0.313177235499777\n",
      "RMSE, train 0.2997992204862002, test 0.313520794866061\n",
      "RMSE, train 0.29990753673545306, test 0.31381770005129805\n",
      "RMSE, train 0.2998750052781443, test 0.31311957342456087\n",
      "RMSE, train 0.299758498053679, test 0.31247991955641546\n",
      "RMSE, train 0.2999729991760697, test 0.3132234528811291\n",
      "RMSE, train 0.2998331099894344, test 0.3129037660781783\n",
      "RMSE, train 0.30036489195520544, test 0.3131149724276379\n",
      "RMSE, train 0.2998417866550623, test 0.31317127051979604\n",
      "RMSE, train 0.29974867064678873, test 0.312959295029592\n",
      "RMSE, train 0.2998203324805262, test 0.31358950908737954\n",
      "RMSE, train 0.29976186684553663, test 0.313581106337634\n",
      "RMSE, train 0.299833478510817, test 0.31316654399187877\n",
      "RMSE, train 0.2998777618836657, test 0.3132056241685694\n",
      "RMSE, train 0.29989965966832083, test 0.31304923452512184\n",
      "Early stopping at epoch 15 (no improvement for 10 epochs).\n",
      "Finished Training\n",
      "Finished Training\n"
     ]
    },
    {
     "name": "stderr",
     "output_type": "stream",
     "text": [
      "C:\\Users\\livb\\AppData\\Local\\Temp\\ipykernel_26636\\396655051.py:10: FutureWarning: You are using `torch.load` with `weights_only=False` (the current default value), which uses the default pickle module implicitly. It is possible to construct malicious pickle data which will execute arbitrary code during unpickling (See https://github.com/pytorch/pytorch/blob/main/SECURITY.md#untrusted-models for more details). In a future release, the default value for `weights_only` will be flipped to `True`. This limits the functions that could be executed during unpickling. Arbitrary objects will no longer be allowed to be loaded via this mode unless they are explicitly allowlisted by the user via `torch.serialization.add_safe_globals`. We recommend you start setting `weights_only=True` for any use case where you don't have full control of the loaded file. Please open an issue on GitHub for any issues related to this experimental feature.\n",
      "  state_dict = torch.load(f'models/lstm/output_size{output}input_size{inputs}.pt')\n"
     ]
    },
    {
     "name": "stdout",
     "output_type": "stream",
     "text": [
      "RMSE, train 0.28257259207241464, test 0.2993649570271373\n",
      "RMSE, train 0.28278013917081285, test 0.2991070930535595\n",
      "RMSE, train 0.28250829160514507, test 0.2992655279425283\n",
      "RMSE, train 0.2829252014482262, test 0.29922832114001113\n",
      "RMSE, train 0.28249579088555443, test 0.2998543434465925\n",
      "RMSE, train 0.2828298256629043, test 0.2991396098708113\n",
      "RMSE, train 0.2828053567144606, test 0.2994647876669963\n",
      "RMSE, train 0.2828287170691924, test 0.2991613956789176\n",
      "RMSE, train 0.2827160195494541, test 0.2989772117386262\n",
      "RMSE, train 0.2826542502476109, test 0.2992313348998626\n",
      "RMSE, train 0.2826385483371489, test 0.2994452801843484\n",
      "RMSE, train 0.2828441143336922, test 0.29882193154965836\n",
      "RMSE, train 0.28272184684421076, test 0.2996744243428111\n",
      "RMSE, train 0.2826266157431434, test 0.2990545043721795\n",
      "RMSE, train 0.28266334183739894, test 0.2990101679849128\n",
      "RMSE, train 0.2827331428274964, test 0.2991525954566896\n",
      "RMSE, train 0.2824809146725168, test 0.2997812209650874\n",
      "RMSE, train 0.2824845583827207, test 0.29856106437121827\n",
      "RMSE, train 0.2827193915016121, test 0.29934357944875956\n",
      "RMSE, train 0.2825404244540918, test 0.2996424228573839\n",
      "RMSE, train 0.2826596111661256, test 0.29892589726174873\n",
      "RMSE, train 0.2826122616351855, test 0.2991173127666116\n",
      "RMSE, train 0.2826421226214881, test 0.2990418584086001\n",
      "RMSE, train 0.2826191151157172, test 0.2990463310852647\n",
      "RMSE, train 0.2823503061827987, test 0.2990009292649726\n",
      "RMSE, train 0.2827094379022266, test 0.29973284776012105\n",
      "RMSE, train 0.2826227668033104, test 0.29982439801096916\n",
      "RMSE, train 0.2825441313437139, test 0.2990136449225247\n",
      "Early stopping at epoch 28 (no improvement for 10 epochs).\n",
      "Finished Training\n",
      "Finished Training\n"
     ]
    },
    {
     "name": "stderr",
     "output_type": "stream",
     "text": [
      "C:\\Users\\livb\\AppData\\Local\\Temp\\ipykernel_26636\\396655051.py:10: FutureWarning: You are using `torch.load` with `weights_only=False` (the current default value), which uses the default pickle module implicitly. It is possible to construct malicious pickle data which will execute arbitrary code during unpickling (See https://github.com/pytorch/pytorch/blob/main/SECURITY.md#untrusted-models for more details). In a future release, the default value for `weights_only` will be flipped to `True`. This limits the functions that could be executed during unpickling. Arbitrary objects will no longer be allowed to be loaded via this mode unless they are explicitly allowlisted by the user via `torch.serialization.add_safe_globals`. We recommend you start setting `weights_only=True` for any use case where you don't have full control of the loaded file. Please open an issue on GitHub for any issues related to this experimental feature.\n",
      "  state_dict = torch.load(f'models/lstm/output_size{output}input_size{inputs}.pt')\n"
     ]
    },
    {
     "name": "stdout",
     "output_type": "stream",
     "text": [
      "RMSE, train 0.277637473977801, test 0.29833728356493844\n",
      "RMSE, train 0.2779877364555138, test 0.2987487569451332\n",
      "RMSE, train 0.2775959256444016, test 0.29922964109314815\n",
      "RMSE, train 0.2777657923351401, test 0.2985663294792175\n",
      "RMSE, train 0.2777752407557881, test 0.29910819100009073\n",
      "RMSE, train 0.2780112855919609, test 0.29913314597474205\n",
      "RMSE, train 0.2775435774233142, test 0.2984445359971788\n",
      "RMSE, train 0.2777965408210163, test 0.29844148010015487\n",
      "RMSE, train 0.2778198365975583, test 0.2985591486096382\n",
      "RMSE, train 0.27784580397959346, test 0.29890543238984213\n",
      "RMSE, train 0.27754632405675644, test 0.2990290656685829\n",
      "Early stopping at epoch 11 (no improvement for 10 epochs).\n",
      "Finished Training\n",
      "Finished Training\n"
     ]
    },
    {
     "name": "stderr",
     "output_type": "stream",
     "text": [
      "C:\\Users\\livb\\AppData\\Local\\Temp\\ipykernel_26636\\396655051.py:10: FutureWarning: You are using `torch.load` with `weights_only=False` (the current default value), which uses the default pickle module implicitly. It is possible to construct malicious pickle data which will execute arbitrary code during unpickling (See https://github.com/pytorch/pytorch/blob/main/SECURITY.md#untrusted-models for more details). In a future release, the default value for `weights_only` will be flipped to `True`. This limits the functions that could be executed during unpickling. Arbitrary objects will no longer be allowed to be loaded via this mode unless they are explicitly allowlisted by the user via `torch.serialization.add_safe_globals`. We recommend you start setting `weights_only=True` for any use case where you don't have full control of the loaded file. Please open an issue on GitHub for any issues related to this experimental feature.\n",
      "  state_dict = torch.load(f'models/lstm/output_size{output}input_size{inputs}.pt')\n"
     ]
    },
    {
     "name": "stdout",
     "output_type": "stream",
     "text": [
      "RMSE, train 0.2727443816784386, test 0.2978418996700874\n",
      "RMSE, train 0.27312296796067853, test 0.2997707369235846\n",
      "RMSE, train 0.272656509113089, test 0.29809150176170546\n",
      "RMSE, train 0.27257138959529614, test 0.29764266560475033\n",
      "RMSE, train 0.27272800674133957, test 0.29783202631351274\n",
      "RMSE, train 0.2724634098858105, test 0.2986003202505601\n",
      "RMSE, train 0.27302110153380954, test 0.2977398469662055\n",
      "RMSE, train 0.27297211858528053, test 0.296706759203703\n",
      "RMSE, train 0.27272205073328404, test 0.297506173260701\n",
      "RMSE, train 0.27247381154621875, test 0.2979257861391092\n",
      "RMSE, train 0.2723084784278246, test 0.29751079682356274\n",
      "RMSE, train 0.27255619816319593, test 0.2985392365700159\n",
      "RMSE, train 0.27250413146345787, test 0.29776062128635555\n",
      "RMSE, train 0.27252017133332485, test 0.29868051199576795\n",
      "RMSE, train 0.2723029922009257, test 0.2973562524868892\n",
      "RMSE, train 0.2719411047819619, test 0.2981190723486436\n",
      "RMSE, train 0.2723439223484087, test 0.29725397951327837\n",
      "RMSE, train 0.2723573261517973, test 0.29616116541318405\n",
      "RMSE, train 0.27224030761146845, test 0.2970949709415436\n",
      "RMSE, train 0.2724837146444113, test 0.2980926472407121\n",
      "RMSE, train 0.27232619915795847, test 0.2970317447414765\n",
      "RMSE, train 0.27216016183203995, test 0.29781266282766294\n",
      "RMSE, train 0.2721517950389244, test 0.29783193346781606\n",
      "RMSE, train 0.27174081818151324, test 0.2969972558128528\n",
      "RMSE, train 0.2722043778016188, test 0.2974790909733528\n",
      "RMSE, train 0.27192020912965137, test 0.29664588127380764\n",
      "RMSE, train 0.2717112461075976, test 0.29738826896899784\n",
      "RMSE, train 0.27193117740555345, test 0.29695014025156313\n",
      "Early stopping at epoch 28 (no improvement for 10 epochs).\n",
      "Finished Training\n"
     ]
    }
   ],
   "source": [
    "for output in output_sizes:\n",
    "\n",
    "    config['output_size'] = output\n",
    "\n",
    "    for inputs in input_sizes:\n",
    "\n",
    "        config['input_size'] = inputs    \n",
    "        \n",
    "        \n",
    "        state_dict = torch.load(f'models/lstm/output_size{output}input_size{inputs}.pt')\n",
    "        mod = tm.train_model(config, it_amt=0, model_fnc=ml_models.LSTM, data_dir='data_synthetic')\n",
    "        mod.load_state_dict(state_dict)\n",
    "\n",
    "        pinn_mod = pinns.decay_pinn(mod)\n",
    "        \n",
    "        mod = pinns.train_pinn_1(config, it_amt=100, model=pinn_mod, data_dir = 'data_synthetic')\n",
    "        \n",
    "        torch.save(obj = mod.state_dict(), f = 'pinn_models_1/lstm/'+'output_size' + str(output) + 'input_size' + str(inputs) + '.pt')"
   ]
  },
  {
   "cell_type": "code",
   "execution_count": null,
   "id": "587ec71f",
   "metadata": {},
   "outputs": [],
   "source": []
  },
  {
   "cell_type": "code",
   "execution_count": null,
   "id": "bbb2d386",
   "metadata": {},
   "outputs": [],
   "source": []
  },
  {
   "cell_type": "code",
   "execution_count": null,
   "id": "30da1de0",
   "metadata": {},
   "outputs": [],
   "source": []
  }
 ],
 "metadata": {
  "kernelspec": {
   "display_name": "Python 3 (ipykernel)",
   "language": "python",
   "name": "python3"
  },
  "language_info": {
   "codemirror_mode": {
    "name": "ipython",
    "version": 3
   },
   "file_extension": ".py",
   "mimetype": "text/x-python",
   "name": "python",
   "nbconvert_exporter": "python",
   "pygments_lexer": "ipython3",
   "version": "3.10.9"
  }
 },
 "nbformat": 4,
 "nbformat_minor": 5
}
