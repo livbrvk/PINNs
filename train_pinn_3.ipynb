{
 "cells": [
  {
   "cell_type": "code",
   "execution_count": 9,
   "id": "1c0dad2b",
   "metadata": {},
   "outputs": [],
   "source": [
    "import torch\n",
    "import torch.nn as nn\n",
    "import seaborn as sns\n",
    "import matplotlib.pyplot as plt\n",
    "import numpy as np\n",
    "import ml_models\n",
    "import data_pipeline2 as dp\n",
    "import training_models as tm\n",
    "\n",
    "import os\n",
    "import seaborn as sns\n",
    "from torch.utils.data import DataLoader, TensorDataset\n",
    "import torch.optim as optim\n",
    "from torch_geometric.nn import GCNConv\n",
    "from torch_geometric.nn.models import GCN\n",
    "\n",
    "import pinns"
   ]
  },
  {
   "cell_type": "code",
   "execution_count": 10,
   "id": "b9d9d1d3",
   "metadata": {},
   "outputs": [],
   "source": [
    "config = {\n",
    "    'input_size' : 10,\n",
    "    'lr' : 0.0005,\n",
    "    'batch_size' : 32,\n",
    "    'hidden_size' : 8,\n",
    "    'output_size' : 40,\n",
    "    'layer_amt' : 3,\n",
    "    'lambda_' : 0.05\n",
    "    }"
   ]
  },
  {
   "cell_type": "code",
   "execution_count": 8,
   "id": "abe07726",
   "metadata": {
    "scrolled": false
   },
   "outputs": [
    {
     "name": "stderr",
     "output_type": "stream",
     "text": [
      "C:\\Users\\livb\\AppData\\Local\\Temp\\ipykernel_22720\\1119476492.py:14: FutureWarning: You are using `torch.load` with `weights_only=False` (the current default value), which uses the default pickle module implicitly. It is possible to construct malicious pickle data which will execute arbitrary code during unpickling (See https://github.com/pytorch/pytorch/blob/main/SECURITY.md#untrusted-models for more details). In a future release, the default value for `weights_only` will be flipped to `True`. This limits the functions that could be executed during unpickling. Arbitrary objects will no longer be allowed to be loaded via this mode unless they are explicitly allowlisted by the user via `torch.serialization.add_safe_globals`. We recommend you start setting `weights_only=True` for any use case where you don't have full control of the loaded file. Please open an issue on GitHub for any issues related to this experimental feature.\n",
      "  state_dict = torch.load(f'models/mlp/output_size{output}input_size{inputs}.pt')\n"
     ]
    },
    {
     "name": "stdout",
     "output_type": "stream",
     "text": [
      "Finished Training\n",
      "RMSE, train 0.3001074288905687, test 0.3127143377005452\n",
      "RMSE, train 0.2998848711584483, test 0.3124196646791516\n",
      "RMSE, train 0.30009616550723034, test 0.31462084855696165\n",
      "RMSE, train 0.2998287431841083, test 0.31194302289172854\n",
      "RMSE, train 0.2997991367992387, test 0.31288165606633583\n",
      "RMSE, train 0.2998236237426259, test 0.3131908160267454\n",
      "RMSE, train 0.29986789523826546, test 0.31281389702450146\n",
      "RMSE, train 0.2998158626786654, test 0.31235927463781954\n",
      "RMSE, train 0.29964294432136424, test 0.3122910410165787\n",
      "RMSE, train 0.29982756883416023, test 0.31343693007724455\n",
      "RMSE, train 0.2997190044386754, test 0.31304684401762606\n",
      "RMSE, train 0.2997035723370853, test 0.3132012938008164\n",
      "RMSE, train 0.2995972400918275, test 0.3133079060400375\n",
      "RMSE, train 0.29960252719869823, test 0.3133509363790955\n",
      "Early stopping at epoch 14 (no improvement for 10 epochs).\n",
      "Finished Training\n",
      "Finished Training\n"
     ]
    },
    {
     "name": "stderr",
     "output_type": "stream",
     "text": [
      "C:\\Users\\livb\\AppData\\Local\\Temp\\ipykernel_22720\\1119476492.py:14: FutureWarning: You are using `torch.load` with `weights_only=False` (the current default value), which uses the default pickle module implicitly. It is possible to construct malicious pickle data which will execute arbitrary code during unpickling (See https://github.com/pytorch/pytorch/blob/main/SECURITY.md#untrusted-models for more details). In a future release, the default value for `weights_only` will be flipped to `True`. This limits the functions that could be executed during unpickling. Arbitrary objects will no longer be allowed to be loaded via this mode unless they are explicitly allowlisted by the user via `torch.serialization.add_safe_globals`. We recommend you start setting `weights_only=True` for any use case where you don't have full control of the loaded file. Please open an issue on GitHub for any issues related to this experimental feature.\n",
      "  state_dict = torch.load(f'models/mlp/output_size{output}input_size{inputs}.pt')\n"
     ]
    },
    {
     "name": "stdout",
     "output_type": "stream",
     "text": [
      "RMSE, train 0.28184640701069974, test 0.2985694743692875\n",
      "RMSE, train 0.2818968959453732, test 0.2989276982843876\n",
      "RMSE, train 0.28184628836584813, test 0.2983932468729715\n",
      "RMSE, train 0.2817447014303521, test 0.2979065713783105\n",
      "RMSE, train 0.28168931516884554, test 0.2993921154799561\n",
      "RMSE, train 0.2816626291458655, test 0.29853568769370514\n",
      "RMSE, train 0.2817549335986677, test 0.29795111327742535\n",
      "RMSE, train 0.28163415882172005, test 0.3005521094116072\n",
      "RMSE, train 0.28158079885473153, test 0.29870220739394426\n",
      "RMSE, train 0.2815929019089901, test 0.29927736179282266\n",
      "RMSE, train 0.28153819846685485, test 0.29861024177322787\n",
      "RMSE, train 0.2814941990631397, test 0.2989600384607911\n",
      "RMSE, train 0.2815154605366365, test 0.2985070104089876\n",
      "RMSE, train 0.28151222100161544, test 0.2996994221272568\n",
      "Early stopping at epoch 14 (no improvement for 10 epochs).\n",
      "Finished Training\n",
      "Finished Training\n"
     ]
    },
    {
     "name": "stderr",
     "output_type": "stream",
     "text": [
      "C:\\Users\\livb\\AppData\\Local\\Temp\\ipykernel_22720\\1119476492.py:14: FutureWarning: You are using `torch.load` with `weights_only=False` (the current default value), which uses the default pickle module implicitly. It is possible to construct malicious pickle data which will execute arbitrary code during unpickling (See https://github.com/pytorch/pytorch/blob/main/SECURITY.md#untrusted-models for more details). In a future release, the default value for `weights_only` will be flipped to `True`. This limits the functions that could be executed during unpickling. Arbitrary objects will no longer be allowed to be loaded via this mode unless they are explicitly allowlisted by the user via `torch.serialization.add_safe_globals`. We recommend you start setting `weights_only=True` for any use case where you don't have full control of the loaded file. Please open an issue on GitHub for any issues related to this experimental feature.\n",
      "  state_dict = torch.load(f'models/mlp/output_size{output}input_size{inputs}.pt')\n"
     ]
    },
    {
     "name": "stdout",
     "output_type": "stream",
     "text": [
      "RMSE, train 0.276410907988921, test 0.2997569304373529\n",
      "RMSE, train 0.2762573885548147, test 0.29951970726251603\n",
      "RMSE, train 0.27627472796369434, test 0.2968339466386371\n",
      "RMSE, train 0.27606709128762835, test 0.2987560444407993\n",
      "RMSE, train 0.27605681069135024, test 0.29726396352052686\n",
      "RMSE, train 0.2760125156441789, test 0.29732485430108174\n",
      "RMSE, train 0.2758548260136756, test 0.2965698038538297\n",
      "RMSE, train 0.2758113837868698, test 0.2976941116982036\n",
      "RMSE, train 0.27566658434360175, test 0.2983722976512379\n",
      "RMSE, train 0.2756163469864673, test 0.2983295351266861\n",
      "RMSE, train 0.2754777781564913, test 0.2974741448958715\n",
      "RMSE, train 0.27547457914628753, test 0.2981418326497078\n",
      "RMSE, train 0.27538183596577603, test 0.2977947715255949\n",
      "RMSE, train 0.2753555146510389, test 0.29714348249965244\n",
      "RMSE, train 0.2752256083359937, test 0.29704688158300185\n",
      "RMSE, train 0.27516227570987456, test 0.2963427926103274\n",
      "RMSE, train 0.2752158284749625, test 0.29762332919571133\n",
      "RMSE, train 0.27499917619472564, test 0.2968907344672415\n",
      "RMSE, train 0.2750396401172057, test 0.2959743645456102\n",
      "RMSE, train 0.2750053433475469, test 0.2967996906903055\n",
      "RMSE, train 0.2748408405928599, test 0.2971506165133582\n",
      "RMSE, train 0.2748731825791922, test 0.296951550245285\n",
      "RMSE, train 0.2747505270245904, test 0.2960520110196537\n",
      "RMSE, train 0.27473469568552034, test 0.2962614973386129\n",
      "RMSE, train 0.27464728615675976, test 0.29621491928895316\n",
      "RMSE, train 0.2744952254700211, test 0.2947367295622826\n",
      "RMSE, train 0.27451158192440506, test 0.2945795665184657\n",
      "RMSE, train 0.2744970390738824, test 0.29794321921136646\n",
      "RMSE, train 0.2745226193068805, test 0.2960636263092359\n",
      "RMSE, train 0.2744392445787908, test 0.2956283564368884\n",
      "RMSE, train 0.27436352752129023, test 0.296592084897889\n",
      "RMSE, train 0.274374334959971, test 0.29652187840806116\n",
      "RMSE, train 0.27425648926724644, test 0.2969532314274046\n",
      "RMSE, train 0.2742576585866692, test 0.29607783605655036\n",
      "RMSE, train 0.2742172982493501, test 0.2968311819765303\n",
      "RMSE, train 0.27417289676531303, test 0.29473724597030215\n",
      "RMSE, train 0.27418770289646005, test 0.29900893535878925\n",
      "Early stopping at epoch 37 (no improvement for 10 epochs).\n",
      "Finished Training\n",
      "Finished Training\n"
     ]
    },
    {
     "name": "stderr",
     "output_type": "stream",
     "text": [
      "C:\\Users\\livb\\AppData\\Local\\Temp\\ipykernel_22720\\1119476492.py:14: FutureWarning: You are using `torch.load` with `weights_only=False` (the current default value), which uses the default pickle module implicitly. It is possible to construct malicious pickle data which will execute arbitrary code during unpickling (See https://github.com/pytorch/pytorch/blob/main/SECURITY.md#untrusted-models for more details). In a future release, the default value for `weights_only` will be flipped to `True`. This limits the functions that could be executed during unpickling. Arbitrary objects will no longer be allowed to be loaded via this mode unless they are explicitly allowlisted by the user via `torch.serialization.add_safe_globals`. We recommend you start setting `weights_only=True` for any use case where you don't have full control of the loaded file. Please open an issue on GitHub for any issues related to this experimental feature.\n",
      "  state_dict = torch.load(f'models/mlp/output_size{output}input_size{inputs}.pt')\n"
     ]
    },
    {
     "name": "stdout",
     "output_type": "stream",
     "text": [
      "RMSE, train 0.2676947441799247, test 0.2939104082492682\n",
      "RMSE, train 0.26760920561919704, test 0.29158545323671436\n",
      "RMSE, train 0.2673540518755482, test 0.29382022489339876\n",
      "RMSE, train 0.2671975362059483, test 0.2921427282003256\n",
      "RMSE, train 0.26691804431680577, test 0.2916586095323929\n",
      "RMSE, train 0.2669335490446596, test 0.29216957493470264\n",
      "RMSE, train 0.2667092232967834, test 0.2916267113043712\n",
      "RMSE, train 0.2665703146721344, test 0.291274589796861\n",
      "RMSE, train 0.2664068463806794, test 0.290697336770021\n",
      "RMSE, train 0.26632664939881856, test 0.29133572715979356\n",
      "RMSE, train 0.26632154145716136, test 0.29411900024383497\n",
      "RMSE, train 0.2661390268821211, test 0.2929161286506897\n",
      "RMSE, train 0.2659503827306712, test 0.28896188735961914\n",
      "RMSE, train 0.26596616222479635, test 0.2905624432441516\n",
      "RMSE, train 0.265825413051424, test 0.2917036931866255\n",
      "RMSE, train 0.2656933526940806, test 0.2921973094344139\n",
      "RMSE, train 0.26568187828932965, test 0.290938580647493\n",
      "RMSE, train 0.26568862345545463, test 0.2902567027471004\n",
      "RMSE, train 0.26548440081308194, test 0.2927208560017439\n",
      "RMSE, train 0.2655957316126779, test 0.28939885474168336\n",
      "RMSE, train 0.26541419067301114, test 0.29229846080908406\n",
      "RMSE, train 0.26542875166065594, test 0.2908388750675397\n",
      "RMSE, train 0.26519974430216436, test 0.2893495899744523\n",
      "Early stopping at epoch 23 (no improvement for 10 epochs).\n",
      "Finished Training\n"
     ]
    }
   ],
   "source": [
    "output_sizes = [40]\n",
    "input_sizes = [5,10,20,40]\n",
    "\n",
    "\n",
    "for output in output_sizes:\n",
    "\n",
    "    config['output_size'] = output\n",
    "\n",
    "    for inputs in input_sizes:\n",
    "\n",
    "        config['input_size'] = inputs    \n",
    "        \n",
    "        \n",
    "        state_dict = torch.load(f'models/mlp/output_size{output}input_size{inputs}.pt')\n",
    "        mod = tm.train_model(config, it_amt=0, model_fnc=ml_models.MLP, data_dir='data_synthetic')\n",
    "        mod.load_state_dict(state_dict)\n",
    "\n",
    "        pinn_mod = pinns.decay_pinn(mod)\n",
    "        \n",
    "        mod = pinns.train_pinn_3(config, it_amt=100, model=pinn_mod, data_dir = 'data_synthetic')\n",
    "        \n",
    "        torch.save(obj = mod.state_dict(), f = 'pinn_models_3/mlp/'+'output_size' + str(output) + 'input_size' + str(inputs) + '.pt')"
   ]
  },
  {
   "cell_type": "code",
   "execution_count": 11,
   "id": "4c43c0a1",
   "metadata": {
    "scrolled": false
   },
   "outputs": [
    {
     "name": "stderr",
     "output_type": "stream",
     "text": [
      "C:\\Users\\livb\\AppData\\Local\\Temp\\ipykernel_22720\\2226829762.py:10: FutureWarning: You are using `torch.load` with `weights_only=False` (the current default value), which uses the default pickle module implicitly. It is possible to construct malicious pickle data which will execute arbitrary code during unpickling (See https://github.com/pytorch/pytorch/blob/main/SECURITY.md#untrusted-models for more details). In a future release, the default value for `weights_only` will be flipped to `True`. This limits the functions that could be executed during unpickling. Arbitrary objects will no longer be allowed to be loaded via this mode unless they are explicitly allowlisted by the user via `torch.serialization.add_safe_globals`. We recommend you start setting `weights_only=True` for any use case where you don't have full control of the loaded file. Please open an issue on GitHub for any issues related to this experimental feature.\n",
      "  state_dict = torch.load(f'models/cnn/output_size{output}input_size{inputs}.pt')\n"
     ]
    },
    {
     "name": "stdout",
     "output_type": "stream",
     "text": [
      "Finished Training\n",
      "RMSE, train 0.2999834048135939, test 0.312979440797459\n",
      "RMSE, train 0.30039403764280537, test 0.314002784514668\n",
      "RMSE, train 0.3003493084009819, test 0.313309704264005\n",
      "RMSE, train 0.3000344783067703, test 0.3132979382168163\n",
      "RMSE, train 0.29982205915713367, test 0.3131648308098918\n",
      "RMSE, train 0.29987004698051506, test 0.31454098947120435\n",
      "RMSE, train 0.3000032563299888, test 0.3123955010163664\n",
      "RMSE, train 0.2997773631423493, test 0.3146639649916177\n",
      "RMSE, train 0.2999151970981677, test 0.3134558860099677\n",
      "RMSE, train 0.300026163422391, test 0.31322754151893384\n",
      "RMSE, train 0.2996375293705458, test 0.3136534115882835\n",
      "RMSE, train 0.30001429696100557, test 0.3145152074520034\n",
      "RMSE, train 0.29993960272274856, test 0.3140546504897301\n",
      "RMSE, train 0.29963799564208843, test 0.3146715106988194\n",
      "RMSE, train 0.29952460592999725, test 0.3134124300094566\n",
      "RMSE, train 0.2996065519331137, test 0.3131292224532426\n",
      "RMSE, train 0.2997729032503072, test 0.31265262311155145\n",
      "Early stopping at epoch 17 (no improvement for 10 epochs).\n",
      "Finished Training\n",
      "Finished Training\n"
     ]
    },
    {
     "name": "stderr",
     "output_type": "stream",
     "text": [
      "C:\\Users\\livb\\AppData\\Local\\Temp\\ipykernel_22720\\2226829762.py:10: FutureWarning: You are using `torch.load` with `weights_only=False` (the current default value), which uses the default pickle module implicitly. It is possible to construct malicious pickle data which will execute arbitrary code during unpickling (See https://github.com/pytorch/pytorch/blob/main/SECURITY.md#untrusted-models for more details). In a future release, the default value for `weights_only` will be flipped to `True`. This limits the functions that could be executed during unpickling. Arbitrary objects will no longer be allowed to be loaded via this mode unless they are explicitly allowlisted by the user via `torch.serialization.add_safe_globals`. We recommend you start setting `weights_only=True` for any use case where you don't have full control of the loaded file. Please open an issue on GitHub for any issues related to this experimental feature.\n",
      "  state_dict = torch.load(f'models/cnn/output_size{output}input_size{inputs}.pt')\n"
     ]
    },
    {
     "name": "stdout",
     "output_type": "stream",
     "text": [
      "RMSE, train 0.2825640047514679, test 0.3014816343784332\n",
      "RMSE, train 0.28243478726256976, test 0.2990328681965669\n",
      "RMSE, train 0.28223999932107297, test 0.3018777382870515\n",
      "RMSE, train 0.2822898490862413, test 0.3011592064673702\n",
      "RMSE, train 0.28222805679296004, test 0.2984390080285569\n",
      "RMSE, train 0.28220647091817375, test 0.299540036978821\n",
      "RMSE, train 0.28183549198538366, test 0.30088268344600994\n",
      "RMSE, train 0.2817502316049855, test 0.29714277262489003\n",
      "RMSE, train 0.2816291377700941, test 0.3031658719604214\n",
      "RMSE, train 0.2814056679907471, test 0.2995227292800943\n",
      "RMSE, train 0.2816537221272786, test 0.29844040889292955\n",
      "RMSE, train 0.2815222518537382, test 0.30034304643049836\n",
      "RMSE, train 0.28131661394780333, test 0.3006900008767843\n",
      "RMSE, train 0.2812149055828952, test 0.2995886703332265\n",
      "RMSE, train 0.2811917531294654, test 0.2970448623721798\n",
      "RMSE, train 0.28119390066524946, test 0.2991290834421913\n",
      "RMSE, train 0.28096474232998764, test 0.3000370622612536\n",
      "RMSE, train 0.2811529349648591, test 0.2991628077191611\n",
      "RMSE, train 0.2810112562293958, test 0.2991910146859785\n",
      "RMSE, train 0.2808639888811593, test 0.30113567986215156\n",
      "RMSE, train 0.28074565597555856, test 0.29865062578270835\n",
      "RMSE, train 0.2808554175526205, test 0.29963527076567215\n",
      "RMSE, train 0.2806769448022048, test 0.2990572031897803\n",
      "RMSE, train 0.28046160560063643, test 0.2994215749204159\n",
      "RMSE, train 0.2804843997865012, test 0.30298810824751854\n",
      "Early stopping at epoch 25 (no improvement for 10 epochs).\n",
      "Finished Training\n",
      "Finished Training\n"
     ]
    },
    {
     "name": "stderr",
     "output_type": "stream",
     "text": [
      "C:\\Users\\livb\\AppData\\Local\\Temp\\ipykernel_22720\\2226829762.py:10: FutureWarning: You are using `torch.load` with `weights_only=False` (the current default value), which uses the default pickle module implicitly. It is possible to construct malicious pickle data which will execute arbitrary code during unpickling (See https://github.com/pytorch/pytorch/blob/main/SECURITY.md#untrusted-models for more details). In a future release, the default value for `weights_only` will be flipped to `True`. This limits the functions that could be executed during unpickling. Arbitrary objects will no longer be allowed to be loaded via this mode unless they are explicitly allowlisted by the user via `torch.serialization.add_safe_globals`. We recommend you start setting `weights_only=True` for any use case where you don't have full control of the loaded file. Please open an issue on GitHub for any issues related to this experimental feature.\n",
      "  state_dict = torch.load(f'models/cnn/output_size{output}input_size{inputs}.pt')\n"
     ]
    },
    {
     "name": "stdout",
     "output_type": "stream",
     "text": [
      "RMSE, train 0.27672850430975704, test 0.30042873091167877\n",
      "RMSE, train 0.2764339375929691, test 0.29578246110015444\n",
      "RMSE, train 0.2760839440591252, test 0.2995328333642748\n",
      "RMSE, train 0.2758423195212999, test 0.29552186727523805\n",
      "RMSE, train 0.2757653053398081, test 0.29742305411232844\n",
      "RMSE, train 0.2755034563114058, test 0.29483908596966\n",
      "RMSE, train 0.275240541227423, test 0.30060495833555856\n",
      "RMSE, train 0.2749748921619271, test 0.29996015230814616\n",
      "RMSE, train 0.27495633587843643, test 0.2966415382093853\n",
      "RMSE, train 0.2745800988693443, test 0.2949265287982093\n",
      "RMSE, train 0.2746351762119972, test 0.29506726016600926\n",
      "RMSE, train 0.2744167102074045, test 0.29826784233252207\n",
      "RMSE, train 0.2742978013509689, test 0.2972353961732652\n",
      "RMSE, train 0.27399890815633327, test 0.2976606769694222\n",
      "RMSE, train 0.2740097814653762, test 0.2985660201973385\n",
      "RMSE, train 0.27366854917167655, test 0.29740816553433735\n",
      "Early stopping at epoch 16 (no improvement for 10 epochs).\n",
      "Finished Training\n",
      "Finished Training\n"
     ]
    },
    {
     "name": "stderr",
     "output_type": "stream",
     "text": [
      "C:\\Users\\livb\\AppData\\Local\\Temp\\ipykernel_22720\\2226829762.py:10: FutureWarning: You are using `torch.load` with `weights_only=False` (the current default value), which uses the default pickle module implicitly. It is possible to construct malicious pickle data which will execute arbitrary code during unpickling (See https://github.com/pytorch/pytorch/blob/main/SECURITY.md#untrusted-models for more details). In a future release, the default value for `weights_only` will be flipped to `True`. This limits the functions that could be executed during unpickling. Arbitrary objects will no longer be allowed to be loaded via this mode unless they are explicitly allowlisted by the user via `torch.serialization.add_safe_globals`. We recommend you start setting `weights_only=True` for any use case where you don't have full control of the loaded file. Please open an issue on GitHub for any issues related to this experimental feature.\n",
      "  state_dict = torch.load(f'models/cnn/output_size{output}input_size{inputs}.pt')\n"
     ]
    },
    {
     "name": "stdout",
     "output_type": "stream",
     "text": [
      "RMSE, train 0.2691371922738084, test 0.2975356873029318\n",
      "RMSE, train 0.26896983891075643, test 0.2998269666463901\n",
      "RMSE, train 0.268569863984518, test 0.29928156695304775\n",
      "RMSE, train 0.2676344340742563, test 0.29687050252388686\n",
      "RMSE, train 0.2675496830932819, test 0.2943965626450685\n",
      "RMSE, train 0.2670958734747034, test 0.29852252854750705\n",
      "RMSE, train 0.2668482853430454, test 0.2919433348071881\n",
      "RMSE, train 0.2662398421504416, test 0.2967190776879971\n",
      "RMSE, train 0.2657013468653242, test 0.29618587574133504\n",
      "RMSE, train 0.2654947308922111, test 0.2953486345135249\n",
      "RMSE, train 0.26535446421936665, test 0.2998777945072223\n",
      "RMSE, train 0.2652588138513476, test 0.2959454588783093\n",
      "RMSE, train 0.26495239509971713, test 0.29800951136992526\n",
      "RMSE, train 0.2647431726767638, test 0.3016095287524737\n",
      "RMSE, train 0.26421876279550177, test 0.2978170191248258\n",
      "RMSE, train 0.26412341253965443, test 0.29723422343914324\n",
      "RMSE, train 0.2638660637296249, test 0.2941577031444281\n",
      "Early stopping at epoch 17 (no improvement for 10 epochs).\n",
      "Finished Training\n"
     ]
    }
   ],
   "source": [
    "for output in output_sizes:\n",
    "\n",
    "    config['output_size'] = output\n",
    "\n",
    "    for inputs in input_sizes:\n",
    "\n",
    "        config['input_size'] = inputs    \n",
    "        \n",
    "        \n",
    "        state_dict = torch.load(f'models/cnn/output_size{output}input_size{inputs}.pt')\n",
    "        mod = tm.train_model(config, it_amt=0, model_fnc=ml_models.CNN, data_dir='data_synthetic')\n",
    "        mod.load_state_dict(state_dict)\n",
    "\n",
    "        pinn_mod = pinns.decay_pinn(mod)\n",
    "        \n",
    "        mod = pinns.train_pinn_3(config, it_amt=100, model=pinn_mod, data_dir = 'data_synthetic')\n",
    "        \n",
    "        torch.save(obj = mod.state_dict(), f = 'pinn_models_3/cnn/'+'output_size' + str(output) + 'input_size' + str(inputs) + '.pt')"
   ]
  },
  {
   "cell_type": "code",
   "execution_count": 12,
   "id": "47986c66",
   "metadata": {
    "scrolled": false
   },
   "outputs": [
    {
     "name": "stdout",
     "output_type": "stream",
     "text": [
      "Finished Training\n"
     ]
    },
    {
     "name": "stderr",
     "output_type": "stream",
     "text": [
      "C:\\Users\\livb\\AppData\\Local\\Temp\\ipykernel_22720\\2709736740.py:10: FutureWarning: You are using `torch.load` with `weights_only=False` (the current default value), which uses the default pickle module implicitly. It is possible to construct malicious pickle data which will execute arbitrary code during unpickling (See https://github.com/pytorch/pytorch/blob/main/SECURITY.md#untrusted-models for more details). In a future release, the default value for `weights_only` will be flipped to `True`. This limits the functions that could be executed during unpickling. Arbitrary objects will no longer be allowed to be loaded via this mode unless they are explicitly allowlisted by the user via `torch.serialization.add_safe_globals`. We recommend you start setting `weights_only=True` for any use case where you don't have full control of the loaded file. Please open an issue on GitHub for any issues related to this experimental feature.\n",
      "  state_dict = torch.load(f'models/lstm/output_size{output}input_size{inputs}.pt')\n"
     ]
    },
    {
     "name": "stdout",
     "output_type": "stream",
     "text": [
      "RMSE, train 0.3005460656651075, test 0.31361724406179753\n",
      "RMSE, train 0.3008635203310796, test 0.3195696668793457\n",
      "RMSE, train 0.30068832093025477, test 0.3147854020800253\n",
      "RMSE, train 0.300678782620465, test 0.31382970301189805\n",
      "RMSE, train 0.30064156356388316, test 0.31318878751210494\n",
      "RMSE, train 0.3002643931320069, test 0.3151840012181889\n",
      "RMSE, train 0.3009021478935092, test 0.31304653816752964\n",
      "RMSE, train 0.3006557682324155, test 0.3126224300476036\n",
      "RMSE, train 0.3005697346476879, test 0.3146369252542053\n",
      "RMSE, train 0.30044972601467357, test 0.31346117125617134\n",
      "RMSE, train 0.3007224403631425, test 0.31244364621663334\n",
      "RMSE, train 0.30035883031585103, test 0.31418476742927476\n",
      "RMSE, train 0.30052558859140777, test 0.3128780292140113\n",
      "RMSE, train 0.3003261366216944, test 0.31502225964960423\n",
      "RMSE, train 0.3007835008768697, test 0.31269676095307475\n",
      "RMSE, train 0.300391599754541, test 0.3129571399303398\n",
      "RMSE, train 0.3003104315993255, test 0.3141412095289038\n",
      "RMSE, train 0.30027029832738533, test 0.3156388963412757\n",
      "RMSE, train 0.30053045627977565, test 0.3123905472081117\n",
      "RMSE, train 0.3003407633319169, test 0.31237516559735695\n",
      "RMSE, train 0.30061222437978663, test 0.31389828432690015\n",
      "RMSE, train 0.30013143258456204, test 0.3139185547226607\n",
      "RMSE, train 0.30003903194132525, test 0.3153388238314426\n",
      "RMSE, train 0.3003685303159914, test 0.31261639793713886\n",
      "RMSE, train 0.30008628068168475, test 0.31271688203618986\n",
      "RMSE, train 0.3002007066984923, test 0.3137858341438602\n",
      "RMSE, train 0.30047737714130895, test 0.3131790651817514\n",
      "RMSE, train 0.30017114538143785, test 0.3145989409901879\n",
      "RMSE, train 0.3003243403577571, test 0.3126600587909872\n",
      "RMSE, train 0.30057802217076635, test 0.3126556939548916\n",
      "Early stopping at epoch 30 (no improvement for 10 epochs).\n",
      "Finished Training\n",
      "Finished Training\n"
     ]
    },
    {
     "name": "stderr",
     "output_type": "stream",
     "text": [
      "C:\\Users\\livb\\AppData\\Local\\Temp\\ipykernel_22720\\2709736740.py:10: FutureWarning: You are using `torch.load` with `weights_only=False` (the current default value), which uses the default pickle module implicitly. It is possible to construct malicious pickle data which will execute arbitrary code during unpickling (See https://github.com/pytorch/pytorch/blob/main/SECURITY.md#untrusted-models for more details). In a future release, the default value for `weights_only` will be flipped to `True`. This limits the functions that could be executed during unpickling. Arbitrary objects will no longer be allowed to be loaded via this mode unless they are explicitly allowlisted by the user via `torch.serialization.add_safe_globals`. We recommend you start setting `weights_only=True` for any use case where you don't have full control of the loaded file. Please open an issue on GitHub for any issues related to this experimental feature.\n",
      "  state_dict = torch.load(f'models/lstm/output_size{output}input_size{inputs}.pt')\n"
     ]
    },
    {
     "name": "stdout",
     "output_type": "stream",
     "text": [
      "RMSE, train 0.28349974864360056, test 0.29977072930584353\n",
      "RMSE, train 0.2833749982669498, test 0.2997549685339133\n",
      "RMSE, train 0.28304981797783063, test 0.29954405485962826\n",
      "RMSE, train 0.2831064250809376, test 0.29796594629685086\n",
      "RMSE, train 0.2830883407532567, test 0.2977970192829768\n",
      "RMSE, train 0.2829468667958722, test 0.2979642941306035\n",
      "RMSE, train 0.28273504257503185, test 0.30011078156530857\n",
      "RMSE, train 0.2829509910308953, test 0.3001362738820414\n",
      "RMSE, train 0.2829453818725817, test 0.30120328984533745\n",
      "RMSE, train 0.2830175779233075, test 0.2986004683189094\n",
      "RMSE, train 0.2828273686646211, test 0.29774447716772556\n",
      "RMSE, train 0.282698486489479, test 0.3021525973454118\n",
      "RMSE, train 0.2827300468102248, test 0.29815579888721305\n",
      "RMSE, train 0.2825088420826377, test 0.29926480042437714\n",
      "RMSE, train 0.28251596412273366, test 0.2998566337240239\n",
      "RMSE, train 0.28260156527312114, test 0.30210612279673416\n",
      "RMSE, train 0.28278486840803213, test 0.29769122367724776\n",
      "RMSE, train 0.2827439190010832, test 0.29847761522978544\n",
      "RMSE, train 0.28253577337271035, test 0.29863644499952596\n",
      "RMSE, train 0.2824044883100673, test 0.2997272720870872\n",
      "RMSE, train 0.28253382060563925, test 0.29994336360444623\n",
      "RMSE, train 0.2823960744973385, test 0.29964868413905305\n",
      "RMSE, train 0.2824881819989344, test 0.29896900632108253\n",
      "RMSE, train 0.28265732161775986, test 0.29853869539995986\n",
      "RMSE, train 0.28225093560688425, test 0.2983044576831162\n",
      "RMSE, train 0.2824128272030691, test 0.3004276246453325\n",
      "RMSE, train 0.28242581405422906, test 0.2987156184390187\n",
      "Early stopping at epoch 27 (no improvement for 10 epochs).\n",
      "Finished Training\n",
      "Finished Training\n"
     ]
    },
    {
     "name": "stderr",
     "output_type": "stream",
     "text": [
      "C:\\Users\\livb\\AppData\\Local\\Temp\\ipykernel_22720\\2709736740.py:10: FutureWarning: You are using `torch.load` with `weights_only=False` (the current default value), which uses the default pickle module implicitly. It is possible to construct malicious pickle data which will execute arbitrary code during unpickling (See https://github.com/pytorch/pytorch/blob/main/SECURITY.md#untrusted-models for more details). In a future release, the default value for `weights_only` will be flipped to `True`. This limits the functions that could be executed during unpickling. Arbitrary objects will no longer be allowed to be loaded via this mode unless they are explicitly allowlisted by the user via `torch.serialization.add_safe_globals`. We recommend you start setting `weights_only=True` for any use case where you don't have full control of the loaded file. Please open an issue on GitHub for any issues related to this experimental feature.\n",
      "  state_dict = torch.load(f'models/lstm/output_size{output}input_size{inputs}.pt')\n"
     ]
    },
    {
     "name": "stdout",
     "output_type": "stream",
     "text": [
      "RMSE, train 0.27829585017541025, test 0.3000236314204004\n",
      "RMSE, train 0.2783932911980184, test 0.29923431045479243\n",
      "RMSE, train 0.277902098036198, test 0.2980273008346558\n",
      "RMSE, train 0.2780718450758335, test 0.2999733472863833\n",
      "RMSE, train 0.2775527628444918, test 0.299757075144185\n",
      "RMSE, train 0.2774871153571214, test 0.29827907466226156\n",
      "RMSE, train 0.2776702647662227, test 0.299407246377733\n",
      "RMSE, train 0.2772892491033456, test 0.29859534667597876\n",
      "RMSE, train 0.2770237218176901, test 0.29733624590767754\n",
      "RMSE, train 0.277056348050701, test 0.29853914280732474\n",
      "RMSE, train 0.27700661492315587, test 0.29777438160445957\n",
      "RMSE, train 0.27694806476648287, test 0.29704162660572264\n",
      "RMSE, train 0.2767163261249059, test 0.2982100044687589\n",
      "RMSE, train 0.2770212474617997, test 0.29920383907026715\n",
      "RMSE, train 0.2766233499079059, test 0.2978961966103978\n",
      "RMSE, train 0.2770035142766819, test 0.29627876513534124\n",
      "RMSE, train 0.27665980750659724, test 0.2965665151675542\n",
      "RMSE, train 0.2766697408375393, test 0.29689024769597583\n",
      "RMSE, train 0.2764762946457233, test 0.30020448399914634\n",
      "RMSE, train 0.2765245359702252, test 0.2977149001426167\n",
      "RMSE, train 0.2763840525619425, test 0.2982370826933119\n",
      "RMSE, train 0.2762038297649985, test 0.3001887602938546\n",
      "RMSE, train 0.2763375826682042, test 0.2991150960326195\n",
      "RMSE, train 0.276381549689005, test 0.2967463094327185\n",
      "RMSE, train 0.2762734646183461, test 0.29764917327298057\n",
      "RMSE, train 0.27625982009496974, test 0.2973271658023198\n",
      "Early stopping at epoch 26 (no improvement for 10 epochs).\n",
      "Finished Training\n",
      "Finished Training\n"
     ]
    },
    {
     "name": "stderr",
     "output_type": "stream",
     "text": [
      "C:\\Users\\livb\\AppData\\Local\\Temp\\ipykernel_22720\\2709736740.py:10: FutureWarning: You are using `torch.load` with `weights_only=False` (the current default value), which uses the default pickle module implicitly. It is possible to construct malicious pickle data which will execute arbitrary code during unpickling (See https://github.com/pytorch/pytorch/blob/main/SECURITY.md#untrusted-models for more details). In a future release, the default value for `weights_only` will be flipped to `True`. This limits the functions that could be executed during unpickling. Arbitrary objects will no longer be allowed to be loaded via this mode unless they are explicitly allowlisted by the user via `torch.serialization.add_safe_globals`. We recommend you start setting `weights_only=True` for any use case where you don't have full control of the loaded file. Please open an issue on GitHub for any issues related to this experimental feature.\n",
      "  state_dict = torch.load(f'models/lstm/output_size{output}input_size{inputs}.pt')\n"
     ]
    },
    {
     "name": "stdout",
     "output_type": "stream",
     "text": [
      "RMSE, train 0.27346501427461795, test 0.2977943105193285\n",
      "RMSE, train 0.27341476375254514, test 0.3040059953927994\n",
      "RMSE, train 0.27271029441341804, test 0.2984439581632614\n",
      "RMSE, train 0.2723055750224449, test 0.2957389790278215\n",
      "RMSE, train 0.2721604359948375, test 0.29617046985106593\n",
      "RMSE, train 0.2713300521685698, test 0.2973020879121927\n",
      "RMSE, train 0.2714926482546738, test 0.29798774612255585\n",
      "RMSE, train 0.2711796050316819, test 0.2974518705637027\n",
      "RMSE, train 0.27071286060171335, test 0.2963508229989272\n",
      "RMSE, train 0.2703927722861091, test 0.29846451183160144\n",
      "RMSE, train 0.2706953386929919, test 0.2967721726267766\n",
      "RMSE, train 0.2699804272142898, test 0.2974903728717413\n",
      "RMSE, train 0.27021776627157335, test 0.2963832311141185\n",
      "RMSE, train 0.26993603642298797, test 0.296262138738082\n",
      "Early stopping at epoch 14 (no improvement for 10 epochs).\n",
      "Finished Training\n"
     ]
    }
   ],
   "source": [
    "for output in output_sizes:\n",
    "\n",
    "    config['output_size'] = output\n",
    "\n",
    "    for inputs in input_sizes:\n",
    "\n",
    "        config['input_size'] = inputs    \n",
    "        \n",
    "        \n",
    "        state_dict = torch.load(f'models/lstm/output_size{output}input_size{inputs}.pt')\n",
    "        mod = tm.train_model(config, it_amt=0, model_fnc=ml_models.LSTM, data_dir='data_synthetic')\n",
    "        mod.load_state_dict(state_dict)\n",
    "\n",
    "        pinn_mod = pinns.decay_pinn(mod)\n",
    "        \n",
    "        mod = pinns.train_pinn_3(config, it_amt=100, model=pinn_mod, data_dir = 'data_synthetic')\n",
    "        \n",
    "        torch.save(obj = mod.state_dict(), f = 'pinn_models_3/lstm/'+'output_size' + str(output) + 'input_size' + str(inputs) + '.pt')"
   ]
  },
  {
   "cell_type": "code",
   "execution_count": null,
   "id": "587ec71f",
   "metadata": {},
   "outputs": [],
   "source": []
  },
  {
   "cell_type": "code",
   "execution_count": null,
   "id": "bbb2d386",
   "metadata": {},
   "outputs": [],
   "source": []
  },
  {
   "cell_type": "code",
   "execution_count": null,
   "id": "30da1de0",
   "metadata": {},
   "outputs": [],
   "source": []
  }
 ],
 "metadata": {
  "kernelspec": {
   "display_name": "Python 3 (ipykernel)",
   "language": "python",
   "name": "python3"
  },
  "language_info": {
   "codemirror_mode": {
    "name": "ipython",
    "version": 3
   },
   "file_extension": ".py",
   "mimetype": "text/x-python",
   "name": "python",
   "nbconvert_exporter": "python",
   "pygments_lexer": "ipython3",
   "version": "3.10.9"
  }
 },
 "nbformat": 4,
 "nbformat_minor": 5
}
